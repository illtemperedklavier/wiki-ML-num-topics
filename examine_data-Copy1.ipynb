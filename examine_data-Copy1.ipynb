{
 "cells": [
  {
   "cell_type": "code",
   "execution_count": 1,
   "metadata": {},
   "outputs": [],
   "source": [
    "import spacy\n",
    "import nltk\n",
    "import pandas as pd"
   ]
  },
  {
   "cell_type": "code",
   "execution_count": 2,
   "metadata": {},
   "outputs": [],
   "source": [
    "from collections import Counter"
   ]
  },
  {
   "cell_type": "code",
   "execution_count": 3,
   "metadata": {},
   "outputs": [],
   "source": [
    "data = pd.read_csv(r\"D:\\Data\\wikipedia-ml\\wikipedia_machine_learning.csv\",sep='\\t')"
   ]
  },
  {
   "cell_type": "markdown",
   "metadata": {},
   "source": [
    "The format of the data is that each row is a series, and each series has 3 elements: 0:title, 1: url, 2: body text "
   ]
  },
  {
   "cell_type": "code",
   "execution_count": 4,
   "metadata": {},
   "outputs": [],
   "source": [
    "d0 = data.loc[0]"
   ]
  },
  {
   "cell_type": "code",
   "execution_count": 5,
   "metadata": {},
   "outputs": [
    {
     "data": {
      "text/plain": [
       "pandas.core.series.Series"
      ]
     },
     "execution_count": 5,
     "metadata": {},
     "output_type": "execute_result"
    }
   ],
   "source": [
    "type(d0)"
   ]
  },
  {
   "cell_type": "code",
   "execution_count": 6,
   "metadata": {},
   "outputs": [
    {
     "data": {
      "text/plain": [
       "'Outline of computer vision'"
      ]
     },
     "execution_count": 6,
     "metadata": {},
     "output_type": "execute_result"
    }
   ],
   "source": [
    "d0[0]"
   ]
  },
  {
   "cell_type": "code",
   "execution_count": 7,
   "metadata": {},
   "outputs": [
    {
     "data": {
      "text/plain": [
       "'https://en.wikipedia.org/wiki/Outline_of_computer_vision'"
      ]
     },
     "execution_count": 7,
     "metadata": {},
     "output_type": "execute_result"
    }
   ],
   "source": [
    "d0[1]"
   ]
  },
  {
   "cell_type": "code",
   "execution_count": 8,
   "metadata": {},
   "outputs": [
    {
     "data": {
      "text/plain": [
       "'The following outline is provided as an overview of and topical guide to computer vision: Computer v'"
      ]
     },
     "execution_count": 8,
     "metadata": {},
     "output_type": "execute_result"
    }
   ],
   "source": [
    "d0[2][:100]"
   ]
  },
  {
   "cell_type": "code",
   "execution_count": 9,
   "metadata": {},
   "outputs": [
    {
     "data": {
      "text/plain": [
       "(7318, 3)"
      ]
     },
     "execution_count": 9,
     "metadata": {},
     "output_type": "execute_result"
    }
   ],
   "source": [
    "data.shape"
   ]
  },
  {
   "cell_type": "code",
   "execution_count": 10,
   "metadata": {},
   "outputs": [],
   "source": [
    "articles = data.apply(lambda x: x[2], axis=1)"
   ]
  },
  {
   "cell_type": "code",
   "execution_count": 11,
   "metadata": {},
   "outputs": [],
   "source": [
    "titles = data.apply(lambda x: x[0], axis=1)"
   ]
  },
  {
   "cell_type": "code",
   "execution_count": 12,
   "metadata": {},
   "outputs": [],
   "source": [
    "urls = data.apply(lambda x: x[1], axis=1)"
   ]
  },
  {
   "cell_type": "code",
   "execution_count": 13,
   "metadata": {},
   "outputs": [],
   "source": [
    "df = pd.concat([titles,urls,articles],axis=1)"
   ]
  },
  {
   "cell_type": "code",
   "execution_count": 14,
   "metadata": {},
   "outputs": [],
   "source": [
    "df.columns = ['title', 'url','original_article']"
   ]
  },
  {
   "cell_type": "raw",
   "metadata": {},
   "source": [
    "df.head()"
   ]
  },
  {
   "cell_type": "markdown",
   "metadata": {},
   "source": [
    "The next stage is to apply typical NLP preprocessing steps before looking at what words tend to be used often:\n",
    "- lowercase\n",
    "- remove stopwords"
   ]
  },
  {
   "cell_type": "code",
   "execution_count": 16,
   "metadata": {},
   "outputs": [
    {
     "data": {
      "text/plain": [
       "[float, str]"
      ]
     },
     "execution_count": 16,
     "metadata": {},
     "output_type": "execute_result"
    }
   ],
   "source": [
    "list(set([type(a) for a in df.original_article]))"
   ]
  },
  {
   "cell_type": "code",
   "execution_count": 17,
   "metadata": {},
   "outputs": [],
   "source": [
    "float_cols = df[df['original_article'].apply(lambda x: isinstance(x, float))]"
   ]
  },
  {
   "cell_type": "code",
   "execution_count": 18,
   "metadata": {},
   "outputs": [
    {
     "data": {
      "text/html": [
       "<div>\n",
       "<style scoped>\n",
       "    .dataframe tbody tr th:only-of-type {\n",
       "        vertical-align: middle;\n",
       "    }\n",
       "\n",
       "    .dataframe tbody tr th {\n",
       "        vertical-align: top;\n",
       "    }\n",
       "\n",
       "    .dataframe thead th {\n",
       "        text-align: right;\n",
       "    }\n",
       "</style>\n",
       "<table border=\"1\" class=\"dataframe\">\n",
       "  <thead>\n",
       "    <tr style=\"text-align: right;\">\n",
       "      <th></th>\n",
       "      <th>title</th>\n",
       "      <th>url</th>\n",
       "      <th>original_article</th>\n",
       "    </tr>\n",
       "  </thead>\n",
       "  <tbody>\n",
       "    <tr>\n",
       "      <td>100</td>\n",
       "      <td>Category:Robotics suites</td>\n",
       "      <td>https://en.wikipedia.org/wiki/Category:Robotic...</td>\n",
       "      <td>NaN</td>\n",
       "    </tr>\n",
       "    <tr>\n",
       "      <td>5449</td>\n",
       "      <td>Category:Search algorithms</td>\n",
       "      <td>https://en.wikipedia.org/wiki/Category:Search_...</td>\n",
       "      <td>NaN</td>\n",
       "    </tr>\n",
       "  </tbody>\n",
       "</table>\n",
       "</div>"
      ],
      "text/plain": [
       "                           title  \\\n",
       "100     Category:Robotics suites   \n",
       "5449  Category:Search algorithms   \n",
       "\n",
       "                                                    url original_article  \n",
       "100   https://en.wikipedia.org/wiki/Category:Robotic...              NaN  \n",
       "5449  https://en.wikipedia.org/wiki/Category:Search_...              NaN  "
      ]
     },
     "execution_count": 18,
     "metadata": {},
     "output_type": "execute_result"
    }
   ],
   "source": [
    "float_cols.head()"
   ]
  },
  {
   "cell_type": "code",
   "execution_count": 20,
   "metadata": {},
   "outputs": [
    {
     "data": {
      "text/plain": [
       "2"
      ]
     },
     "execution_count": 20,
     "metadata": {},
     "output_type": "execute_result"
    }
   ],
   "source": [
    "df['original_article'].isna().sum()"
   ]
  },
  {
   "cell_type": "markdown",
   "metadata": {},
   "source": [
    "There's not many nulls, I'm just going to drop them, I'd check the proportion of nulls, but since the number of instances is in the thousands, and this is 2, I'm just going to drop them"
   ]
  },
  {
   "cell_type": "code",
   "execution_count": 21,
   "metadata": {
    "scrolled": true
   },
   "outputs": [
    {
     "data": {
      "text/plain": [
       "(7316, 3)"
      ]
     },
     "execution_count": 21,
     "metadata": {},
     "output_type": "execute_result"
    }
   ],
   "source": [
    "df = df.dropna(how='any')\n",
    "df.shape"
   ]
  },
  {
   "cell_type": "code",
   "execution_count": 23,
   "metadata": {
    "scrolled": true
   },
   "outputs": [],
   "source": [
    "articles = df['original_article'].apply(lambda s: s.lower())"
   ]
  },
  {
   "cell_type": "markdown",
   "metadata": {},
   "source": [
    "I need to create a dataframe with a column for each word, where the row is the count of that word in that article"
   ]
  },
  {
   "cell_type": "code",
   "execution_count": 24,
   "metadata": {},
   "outputs": [],
   "source": [
    " from nltk.corpus import stopwords"
   ]
  },
  {
   "cell_type": "code",
   "execution_count": 25,
   "metadata": {
    "scrolled": true
   },
   "outputs": [],
   "source": [
    "articles = articles.apply(lambda row: nltk.word_tokenize(row))"
   ]
  },
  {
   "cell_type": "code",
   "execution_count": 26,
   "metadata": {
    "scrolled": false
   },
   "outputs": [
    {
     "data": {
      "text/plain": [
       "0    [the, following, outline, is, provided, as, an...\n",
       "1    [the, following, outline, is, provided, as, an...\n",
       "2    [the, following, outline, is, provided, as, an...\n",
       "3    [the, accuracy, paradox, is, the, paradoxical,...\n",
       "4    [action, model, learning, (, sometimes, abbrev...\n",
       "Name: original_article, dtype: object"
      ]
     },
     "execution_count": 26,
     "metadata": {},
     "output_type": "execute_result"
    }
   ],
   "source": [
    "articles.head()"
   ]
  },
  {
   "cell_type": "code",
   "execution_count": 27,
   "metadata": {},
   "outputs": [],
   "source": [
    "stop_words = set(stopwords.words('english')) "
   ]
  },
  {
   "cell_type": "markdown",
   "metadata": {},
   "source": [
    "I was conservative with removing the punctuation, because some of it might be important, like ? especially, and =="
   ]
  },
  {
   "cell_type": "code",
   "execution_count": 42,
   "metadata": {},
   "outputs": [],
   "source": [
    "punctuation = \"()'',.:\""
   ]
  },
  {
   "cell_type": "raw",
   "metadata": {},
   "source": [
    "[w for w in t if w not in stop_words and w not in punctuation]"
   ]
  },
  {
   "cell_type": "markdown",
   "metadata": {},
   "source": [
    "I need to remove punctuation as well as stopwords"
   ]
  },
  {
   "cell_type": "code",
   "execution_count": null,
   "metadata": {},
   "outputs": [],
   "source": [
    "def remove_unwanted(tokens):\n",
    "    tokens = [w for w in t if w not in stop_words and w not in punctuation]\n",
    "    return tokens"
   ]
  },
  {
   "cell_type": "code",
   "execution_count": 43,
   "metadata": {},
   "outputs": [
    {
     "data": {
      "text/plain": [
       "\"()'',.:\""
      ]
     },
     "execution_count": 43,
     "metadata": {},
     "output_type": "execute_result"
    }
   ],
   "source": [
    "punctuation"
   ]
  },
  {
   "cell_type": "code",
   "execution_count": 52,
   "metadata": {},
   "outputs": [],
   "source": [
    "a = articles.loc[0]"
   ]
  },
  {
   "cell_type": "code",
   "execution_count": 44,
   "metadata": {},
   "outputs": [],
   "source": [
    "articles = articles.apply(lambda x: [w for w in x if w not in stop_words and w not in punctuation])"
   ]
  },
  {
   "cell_type": "code",
   "execution_count": 45,
   "metadata": {},
   "outputs": [
    {
     "name": "stdout",
     "output_type": "stream",
     "text": [
      "(7316,)\n",
      "(7316, 5)\n"
     ]
    }
   ],
   "source": [
    "print(articles.shape)\n",
    "print(df.shape)"
   ]
  },
  {
   "cell_type": "code",
   "execution_count": 53,
   "metadata": {},
   "outputs": [],
   "source": [
    "c = Counter(a)"
   ]
  },
  {
   "cell_type": "code",
   "execution_count": 55,
   "metadata": {},
   "outputs": [
    {
     "data": {
      "text/plain": [
       "['following',\n",
       " 'outline',\n",
       " 'provided',\n",
       " 'overview',\n",
       " 'topical',\n",
       " 'guide',\n",
       " 'computer',\n",
       " 'vision',\n",
       " 'computer',\n",
       " 'vision',\n",
       " '–',\n",
       " 'interdisciplinary',\n",
       " 'field',\n",
       " 'deals',\n",
       " 'computers',\n",
       " 'made',\n",
       " 'gain',\n",
       " 'high-level',\n",
       " 'understanding',\n",
       " 'digital',\n",
       " 'images',\n",
       " 'videos',\n",
       " 'perspective',\n",
       " 'engineering',\n",
       " 'seeks',\n",
       " 'automate',\n",
       " 'tasks',\n",
       " 'human',\n",
       " 'visual',\n",
       " 'system',\n",
       " 'computer',\n",
       " 'vision',\n",
       " 'tasks',\n",
       " 'include',\n",
       " 'methods',\n",
       " 'acquiring',\n",
       " 'digital',\n",
       " 'images',\n",
       " 'image',\n",
       " 'sensors',\n",
       " 'image',\n",
       " 'processing',\n",
       " 'image',\n",
       " 'analysis',\n",
       " 'reach',\n",
       " 'understanding',\n",
       " 'digital',\n",
       " 'images',\n",
       " 'general',\n",
       " 'deals',\n",
       " 'extraction',\n",
       " 'high-dimensional',\n",
       " 'data',\n",
       " 'real',\n",
       " 'world',\n",
       " 'order',\n",
       " 'produce',\n",
       " 'numerical',\n",
       " 'symbolic',\n",
       " 'information',\n",
       " 'computer',\n",
       " 'interpret',\n",
       " 'image',\n",
       " 'data',\n",
       " 'take',\n",
       " 'many',\n",
       " 'forms',\n",
       " 'video',\n",
       " 'sequences',\n",
       " 'views',\n",
       " 'multiple',\n",
       " 'cameras',\n",
       " 'multi-dimensional',\n",
       " 'data',\n",
       " 'medical',\n",
       " 'scanner',\n",
       " 'technological',\n",
       " 'discipline',\n",
       " 'computer',\n",
       " 'vision',\n",
       " 'seeks',\n",
       " 'apply',\n",
       " 'theories',\n",
       " 'models',\n",
       " 'construction',\n",
       " 'computer',\n",
       " 'vision',\n",
       " 'systems',\n",
       " 'scientific',\n",
       " 'discipline',\n",
       " 'computer',\n",
       " 'vision',\n",
       " 'concerned',\n",
       " 'theory',\n",
       " 'behind',\n",
       " 'artificial',\n",
       " 'systems',\n",
       " 'extract',\n",
       " 'information',\n",
       " 'images',\n",
       " '==',\n",
       " 'branches',\n",
       " 'computer',\n",
       " 'vision==',\n",
       " 'computer',\n",
       " 'stereo',\n",
       " 'underwater',\n",
       " 'computer',\n",
       " '==',\n",
       " 'history',\n",
       " 'computer',\n",
       " 'vision==',\n",
       " 'history',\n",
       " 'computer',\n",
       " '==',\n",
       " 'computer',\n",
       " 'vision',\n",
       " 'subsystems==',\n",
       " '===',\n",
       " 'image',\n",
       " 'enhancement===',\n",
       " 'image',\n",
       " 'image',\n",
       " 'histogram',\n",
       " 'tone',\n",
       " 'gamma',\n",
       " 'anisotropic',\n",
       " 'diffusion',\n",
       " '===',\n",
       " 'transformations===',\n",
       " 'affine',\n",
       " 'homography',\n",
       " 'hough',\n",
       " 'radon',\n",
       " 'walsh–hadamard',\n",
       " '===',\n",
       " 'filtering',\n",
       " 'fourier',\n",
       " 'wavelet',\n",
       " 'transforms',\n",
       " 'image',\n",
       " 'compression===',\n",
       " 'image',\n",
       " 'filter',\n",
       " 'gabor',\n",
       " 'jpeg',\n",
       " 'adaptive',\n",
       " '===',\n",
       " 'color',\n",
       " 'vision===',\n",
       " 'visual',\n",
       " 'human',\n",
       " 'visual',\n",
       " 'system',\n",
       " 'color',\n",
       " 'matching',\n",
       " 'color',\n",
       " 'color',\n",
       " 'appearance',\n",
       " 'color',\n",
       " 'management',\n",
       " 'color',\n",
       " 'color',\n",
       " 'color',\n",
       " '===',\n",
       " 'feature',\n",
       " 'extraction===',\n",
       " 'active',\n",
       " 'blob',\n",
       " 'canny',\n",
       " 'edge',\n",
       " 'contour',\n",
       " 'edge',\n",
       " 'edge',\n",
       " 'harris',\n",
       " 'corner',\n",
       " 'random',\n",
       " 'sample',\n",
       " 'consensus',\n",
       " 'scale-invariant',\n",
       " 'feature',\n",
       " 'transform',\n",
       " '===',\n",
       " 'pose',\n",
       " 'estimation===',\n",
       " 'bundle',\n",
       " 'articulated',\n",
       " 'body',\n",
       " 'pose',\n",
       " 'estimation',\n",
       " 'direct',\n",
       " 'linear',\n",
       " 'transformation',\n",
       " 'epipolar',\n",
       " 'fundamental',\n",
       " 'pinhole',\n",
       " 'camera',\n",
       " 'projective',\n",
       " 'trifocal',\n",
       " '===',\n",
       " 'registration===',\n",
       " 'active',\n",
       " 'appearance',\n",
       " 'model',\n",
       " 'cross-',\n",
       " 'geometric',\n",
       " 'graph',\n",
       " 'cut',\n",
       " 'least',\n",
       " 'squares',\n",
       " 'image',\n",
       " 'image',\n",
       " 'level-set',\n",
       " 'markov',\n",
       " 'random',\n",
       " 'medial',\n",
       " 'motion',\n",
       " 'motion',\n",
       " 'multispectral',\n",
       " 'normalized',\n",
       " 'cut',\n",
       " 'optical',\n",
       " 'particle',\n",
       " 'scale',\n",
       " '===',\n",
       " 'visual',\n",
       " 'recognition===',\n",
       " 'object',\n",
       " 'scale-invariant',\n",
       " 'feature',\n",
       " 'transform',\n",
       " 'gesture',\n",
       " 'bag-of-words',\n",
       " 'model',\n",
       " 'computer',\n",
       " 'kadir–brady',\n",
       " 'saliency',\n",
       " '==',\n",
       " 'commercial',\n",
       " 'computer',\n",
       " 'vision',\n",
       " 'systems==',\n",
       " 'aphelion',\n",
       " 'microsoft',\n",
       " 'poseidon',\n",
       " 'drowning',\n",
       " 'detection',\n",
       " 'visage',\n",
       " '==',\n",
       " 'applications==',\n",
       " '3d',\n",
       " 'reconstruction',\n",
       " 'multiple',\n",
       " 'audio-visual',\n",
       " 'speech',\n",
       " 'augmented',\n",
       " 'augmented',\n",
       " 'reality-assisted',\n",
       " 'automated',\n",
       " 'optical',\n",
       " 'automatic',\n",
       " 'image',\n",
       " 'automatic',\n",
       " 'number',\n",
       " 'plate',\n",
       " 'automatic',\n",
       " 'target',\n",
       " 'check',\n",
       " 'closed-circuit',\n",
       " 'computer',\n",
       " 'stereo',\n",
       " 'contextual',\n",
       " 'image',\n",
       " 'darpa',\n",
       " 'lagr',\n",
       " 'digital',\n",
       " 'video',\n",
       " 'document',\n",
       " 'facial',\n",
       " 'recognition',\n",
       " 'geometric',\n",
       " 'feature',\n",
       " 'gesture',\n",
       " 'image',\n",
       " 'collection',\n",
       " 'image',\n",
       " 'content-based',\n",
       " 'image',\n",
       " 'reverse',\n",
       " 'image',\n",
       " 'image-based',\n",
       " 'modeling',\n",
       " 'integrated',\n",
       " 'mail',\n",
       " 'iris',\n",
       " 'machine',\n",
       " 'mobile',\n",
       " 'navigation',\n",
       " 'system',\n",
       " 'components',\n",
       " 'autonomous',\n",
       " 'mobile',\n",
       " 'object',\n",
       " 'optical',\n",
       " 'braille',\n",
       " 'optical',\n",
       " 'character',\n",
       " 'intelligent',\n",
       " 'character',\n",
       " 'pedestrian',\n",
       " 'people',\n",
       " 'physical',\n",
       " 'red',\n",
       " 'light',\n",
       " 'remote',\n",
       " 'smart',\n",
       " 'traffic',\n",
       " 'enforcement',\n",
       " 'traffic',\n",
       " 'sign',\n",
       " 'vehicle',\n",
       " 'infrastructure',\n",
       " 'velocity',\n",
       " 'video',\n",
       " 'content',\n",
       " 'view',\n",
       " 'visual',\n",
       " 'sensor',\n",
       " 'visual',\n",
       " 'water',\n",
       " 'remote',\n",
       " '==',\n",
       " 'computer',\n",
       " 'vision',\n",
       " 'companies==',\n",
       " 'cognex',\n",
       " 'isra',\n",
       " 'omek',\n",
       " 'scantron',\n",
       " 'view',\n",
       " '==',\n",
       " 'computer',\n",
       " 'vision',\n",
       " 'publications==',\n",
       " 'electronic',\n",
       " 'letters',\n",
       " 'computer',\n",
       " 'vision',\n",
       " 'image',\n",
       " 'international',\n",
       " 'journal',\n",
       " 'computer',\n",
       " '==',\n",
       " 'computer',\n",
       " 'vision',\n",
       " 'organizations==',\n",
       " 'conference',\n",
       " 'computer',\n",
       " 'vision',\n",
       " 'pattern',\n",
       " 'european',\n",
       " 'conference',\n",
       " 'computer',\n",
       " 'international',\n",
       " 'conference',\n",
       " 'computer',\n",
       " 'international',\n",
       " 'conferences',\n",
       " 'central',\n",
       " 'europe',\n",
       " 'computer',\n",
       " 'graphics',\n",
       " 'visualization',\n",
       " 'computer',\n",
       " '==',\n",
       " 'persons',\n",
       " 'influential',\n",
       " 'computer',\n",
       " 'vision==',\n",
       " '==',\n",
       " 'see',\n",
       " 'also==',\n",
       " 'outline',\n",
       " 'artificial',\n",
       " 'outline',\n",
       " 'list',\n",
       " 'computer',\n",
       " 'graphics',\n",
       " 'descriptive',\n",
       " 'geometry',\n",
       " 'virtual',\n",
       " 'design',\n",
       " '==',\n",
       " 'references==',\n",
       " '==',\n",
       " 'external',\n",
       " 'links==',\n",
       " 'usc',\n",
       " 'iris',\n",
       " 'computer',\n",
       " 'vision',\n",
       " 'conference',\n",
       " 'computer',\n",
       " 'vision',\n",
       " 'papers',\n",
       " 'web',\n",
       " 'complete',\n",
       " 'list',\n",
       " 'papers',\n",
       " 'relevant',\n",
       " 'computer',\n",
       " 'vision',\n",
       " 'conferences',\n",
       " 'computer',\n",
       " 'vision',\n",
       " 'online',\n",
       " 'news',\n",
       " 'source',\n",
       " 'code',\n",
       " 'datasets',\n",
       " 'job',\n",
       " 'offers',\n",
       " 'related',\n",
       " 'computer',\n",
       " 'vision',\n",
       " 'keith',\n",
       " 'price',\n",
       " \"'s\",\n",
       " 'annotated',\n",
       " 'computer',\n",
       " 'vision',\n",
       " 'cvonline',\n",
       " 'bob',\n",
       " 'fisher',\n",
       " \"'s\",\n",
       " 'compendium',\n",
       " 'computer',\n",
       " 'vision',\n",
       " 'british',\n",
       " 'machine',\n",
       " 'vision',\n",
       " 'association',\n",
       " 'supporting',\n",
       " 'computer',\n",
       " 'vision',\n",
       " 'research',\n",
       " 'within',\n",
       " 'uk',\n",
       " 'via',\n",
       " 'bmvc',\n",
       " 'miua',\n",
       " 'conferences',\n",
       " 'annals',\n",
       " 'bmva',\n",
       " 'open-source',\n",
       " 'journal',\n",
       " 'bmva',\n",
       " 'summer',\n",
       " 'school',\n",
       " 'one-day',\n",
       " 'meetings']"
      ]
     },
     "execution_count": 55,
     "metadata": {},
     "output_type": "execute_result"
    }
   ],
   "source": [
    "df['orig_']"
   ]
  },
  {
   "cell_type": "code",
   "execution_count": 46,
   "metadata": {},
   "outputs": [
    {
     "name": "stderr",
     "output_type": "stream",
     "text": [
      "C:\\Users\\alecr\\.conda\\envs\\pytorch_env\\lib\\site-packages\\ipykernel_launcher.py:2: SettingWithCopyWarning: \n",
      "A value is trying to be set on a copy of a slice from a DataFrame.\n",
      "Try using .loc[row_indexer,col_indexer] = value instead\n",
      "\n",
      "See the caveats in the documentation: http://pandas.pydata.org/pandas-docs/stable/user_guide/indexing.html#returning-a-view-versus-a-copy\n",
      "  \n"
     ]
    }
   ],
   "source": [
    "#df.drop('article',axis=1)\n",
    "df['article']=articles"
   ]
  },
  {
   "cell_type": "markdown",
   "metadata": {},
   "source": [
    "next: sort columns by count frequency\n",
    "\n",
    "next make a dataframe with the most frequent words"
   ]
  },
  {
   "cell_type": "code",
   "execution_count": null,
   "metadata": {},
   "outputs": [],
   "source": [
    "Something like this https://www.aclweb.org/anthology/W15-1526.pdf would be good to try - supposedly outperforms LDA, but"
   ]
  },
  {
   "cell_type": "code",
   "execution_count": 47,
   "metadata": {
    "scrolled": false
   },
   "outputs": [
    {
     "name": "stderr",
     "output_type": "stream",
     "text": [
      "C:\\Users\\alecr\\.conda\\envs\\pytorch_env\\lib\\site-packages\\ipykernel_launcher.py:1: SettingWithCopyWarning: \n",
      "A value is trying to be set on a copy of a slice from a DataFrame.\n",
      "Try using .loc[row_indexer,col_indexer] = value instead\n",
      "\n",
      "See the caveats in the documentation: http://pandas.pydata.org/pandas-docs/stable/user_guide/indexing.html#returning-a-view-versus-a-copy\n",
      "  \"\"\"Entry point for launching an IPython kernel.\n"
     ]
    }
   ],
   "source": [
    "df['length'] = articles.apply(lambda x: len(x))"
   ]
  },
  {
   "cell_type": "code",
   "execution_count": 48,
   "metadata": {},
   "outputs": [
    {
     "data": {
      "text/plain": [
       "count     7316.000000\n",
       "mean      1324.216785\n",
       "std       1505.295536\n",
       "min          4.000000\n",
       "25%        346.000000\n",
       "50%        808.000000\n",
       "75%       1711.000000\n",
       "max      17054.000000\n",
       "Name: length, dtype: float64"
      ]
     },
     "execution_count": 48,
     "metadata": {},
     "output_type": "execute_result"
    }
   ],
   "source": [
    "df['length'].describe()"
   ]
  },
  {
   "cell_type": "markdown",
   "metadata": {},
   "source": [
    "With this, discarding articles with less than a threshold of non-stopwords will help train an algorithm"
   ]
  },
  {
   "cell_type": "code",
   "execution_count": 56,
   "metadata": {},
   "outputs": [
    {
     "data": {
      "text/plain": [
       "\"The following outline is provided as an overview of and topical guide to computer vision: Computer vision – interdisciplinary field that deals with how computers can be made to gain high-level understanding from digital images or videos. From the perspective of engineering, it seeks to automate tasks that the human visual system can do. Computer vision tasks include methods for acquiring digital images(through image sensors), image processing, and image analysis, to reach an understanding of digital images. In general, it deals with the extraction of high-dimensional data from the real world in order to produce numerical or symbolic information that the computer can interpret. The image data can take many forms, such as video sequences, views from multiple cameras, or multi-dimensional data from a medical scanner. As a technological discipline, computer vision seeks to apply its theories and models for the construction of computer vision systems. As a scientific discipline, computer vision is concerned with the theory behind artificial systems that extract information from images.   == Branches of computer vision== Computer stereo  Underwater computer    == History of computer vision== History of computer    == Computer vision subsystems==   === Image enhancement=== Image  Image   Histogram  Tone   Gamma  Anisotropic diffusion === Transformations=== Affine  Homography Hough  Radon  Walsh–Hadamard    === Filtering, Fourier and wavelet transforms and image compression=== Image  Filter  Gabor  JPEG  Adaptive    === Color vision=== Visual  Human visual system  Color matching  Color  Color appearance  Color management  Color  Color  Color    === Feature extraction=== Active  Blob  Canny edge  Contour  Edge  Edge  Harris corner  Random sample consensus Scale-invariant feature transform === Pose estimation=== Bundle  Articulated body pose estimation Direct linear transformation Epipolar  Fundamental  Pinhole camera  Projective  Trifocal    === Registration=== Active appearance model Cross- Geometric  Graph cut  Least squares  Image  Image  Level-set  Markov random  Medial  Motion  Motion  Multispectral  Normalized cut  Optical  Particle  Scale    === Visual recognition=== Object  Scale-invariant feature transform Gesture  Bag-of-words model in computer  Kadir–Brady saliency     == Commercial computer vision systems==  Aphelion Microsoft  Poseidon drowning detection  Visage    == Applications== 3D reconstruction from multiple  Audio-visual speech  Augmented  Augmented reality-assisted  Automated optical  Automatic image  Automatic number plate  Automatic target  Check  Closed-circuit  Computer stereo  Contextual image  DARPA LAGR  Digital video  Document  Facial recognition   Geometric feature  Gesture  Image collection  Image  Content-based image  Reverse image  Image-based modeling and  Integrated mail  Iris  Machine  Mobile  Navigation system components for: Autonomous  Mobile  Object  Optical braille  Optical character  Intelligent character  Pedestrian  People  Physical  Red light  Remote  Smart  Traffic enforcement  Traffic sign  Vehicle infrastructure  Velocity  Video content  View  Visual sensor  Visual  Water remote    == Computer vision companies==    Cognex     Isra    Omek  Scantron  VIEW    == Computer vision publications== Electronic Letters on Computer Vision and Image  International Journal of Computer    == Computer vision organizations== Conference on Computer Vision and Pattern  European Conference on Computer  International Conference on Computer  International Conferences in Central Europe on Computer Graphics, Visualization and Computer    == Persons influential in computer vision==   == See also== Outline of artificial  Outline of  List of computer graphics and descriptive geometry  Virtual Design and    == References==   == External links==  USC Iris computer vision conference  Computer vision papers on the web A complete list of papers of the most relevant computer vision conferences. Computer Vision Online News, source code, datasets and job offers related to computer vision. Keith Price's Annotated Computer Vision  CVonline Bob Fisher's Compendium of Computer Vision. British Machine Vision Association Supporting computer vision research within the UK via the BMVC and MIUA conferences, Annals of the BMVA(open-source journal), BMVA Summer School and one-day meetings\""
      ]
     },
     "execution_count": 56,
     "metadata": {},
     "output_type": "execute_result"
    }
   ],
   "source": [
    "df['original_article'][0]"
   ]
  },
  {
   "cell_type": "code",
   "execution_count": 57,
   "metadata": {},
   "outputs": [
    {
     "data": {
      "text/plain": [
       "['following',\n",
       " 'outline',\n",
       " 'provided',\n",
       " 'overview',\n",
       " 'topical',\n",
       " 'guide',\n",
       " 'computer',\n",
       " 'vision',\n",
       " 'computer',\n",
       " 'vision',\n",
       " '–',\n",
       " 'interdisciplinary',\n",
       " 'field',\n",
       " 'deals',\n",
       " 'computers',\n",
       " 'made',\n",
       " 'gain',\n",
       " 'high-level',\n",
       " 'understanding',\n",
       " 'digital',\n",
       " 'images',\n",
       " 'videos',\n",
       " 'perspective',\n",
       " 'engineering',\n",
       " 'seeks',\n",
       " 'automate',\n",
       " 'tasks',\n",
       " 'human',\n",
       " 'visual',\n",
       " 'system',\n",
       " 'computer',\n",
       " 'vision',\n",
       " 'tasks',\n",
       " 'include',\n",
       " 'methods',\n",
       " 'acquiring',\n",
       " 'digital',\n",
       " 'images',\n",
       " 'image',\n",
       " 'sensors',\n",
       " 'image',\n",
       " 'processing',\n",
       " 'image',\n",
       " 'analysis',\n",
       " 'reach',\n",
       " 'understanding',\n",
       " 'digital',\n",
       " 'images',\n",
       " 'general',\n",
       " 'deals',\n",
       " 'extraction',\n",
       " 'high-dimensional',\n",
       " 'data',\n",
       " 'real',\n",
       " 'world',\n",
       " 'order',\n",
       " 'produce',\n",
       " 'numerical',\n",
       " 'symbolic',\n",
       " 'information',\n",
       " 'computer',\n",
       " 'interpret',\n",
       " 'image',\n",
       " 'data',\n",
       " 'take',\n",
       " 'many',\n",
       " 'forms',\n",
       " 'video',\n",
       " 'sequences',\n",
       " 'views',\n",
       " 'multiple',\n",
       " 'cameras',\n",
       " 'multi-dimensional',\n",
       " 'data',\n",
       " 'medical',\n",
       " 'scanner',\n",
       " 'technological',\n",
       " 'discipline',\n",
       " 'computer',\n",
       " 'vision',\n",
       " 'seeks',\n",
       " 'apply',\n",
       " 'theories',\n",
       " 'models',\n",
       " 'construction',\n",
       " 'computer',\n",
       " 'vision',\n",
       " 'systems',\n",
       " 'scientific',\n",
       " 'discipline',\n",
       " 'computer',\n",
       " 'vision',\n",
       " 'concerned',\n",
       " 'theory',\n",
       " 'behind',\n",
       " 'artificial',\n",
       " 'systems',\n",
       " 'extract',\n",
       " 'information',\n",
       " 'images',\n",
       " '==',\n",
       " 'branches',\n",
       " 'computer',\n",
       " 'vision==',\n",
       " 'computer',\n",
       " 'stereo',\n",
       " 'underwater',\n",
       " 'computer',\n",
       " '==',\n",
       " 'history',\n",
       " 'computer',\n",
       " 'vision==',\n",
       " 'history',\n",
       " 'computer',\n",
       " '==',\n",
       " 'computer',\n",
       " 'vision',\n",
       " 'subsystems==',\n",
       " '===',\n",
       " 'image',\n",
       " 'enhancement===',\n",
       " 'image',\n",
       " 'image',\n",
       " 'histogram',\n",
       " 'tone',\n",
       " 'gamma',\n",
       " 'anisotropic',\n",
       " 'diffusion',\n",
       " '===',\n",
       " 'transformations===',\n",
       " 'affine',\n",
       " 'homography',\n",
       " 'hough',\n",
       " 'radon',\n",
       " 'walsh–hadamard',\n",
       " '===',\n",
       " 'filtering',\n",
       " 'fourier',\n",
       " 'wavelet',\n",
       " 'transforms',\n",
       " 'image',\n",
       " 'compression===',\n",
       " 'image',\n",
       " 'filter',\n",
       " 'gabor',\n",
       " 'jpeg',\n",
       " 'adaptive',\n",
       " '===',\n",
       " 'color',\n",
       " 'vision===',\n",
       " 'visual',\n",
       " 'human',\n",
       " 'visual',\n",
       " 'system',\n",
       " 'color',\n",
       " 'matching',\n",
       " 'color',\n",
       " 'color',\n",
       " 'appearance',\n",
       " 'color',\n",
       " 'management',\n",
       " 'color',\n",
       " 'color',\n",
       " 'color',\n",
       " '===',\n",
       " 'feature',\n",
       " 'extraction===',\n",
       " 'active',\n",
       " 'blob',\n",
       " 'canny',\n",
       " 'edge',\n",
       " 'contour',\n",
       " 'edge',\n",
       " 'edge',\n",
       " 'harris',\n",
       " 'corner',\n",
       " 'random',\n",
       " 'sample',\n",
       " 'consensus',\n",
       " 'scale-invariant',\n",
       " 'feature',\n",
       " 'transform',\n",
       " '===',\n",
       " 'pose',\n",
       " 'estimation===',\n",
       " 'bundle',\n",
       " 'articulated',\n",
       " 'body',\n",
       " 'pose',\n",
       " 'estimation',\n",
       " 'direct',\n",
       " 'linear',\n",
       " 'transformation',\n",
       " 'epipolar',\n",
       " 'fundamental',\n",
       " 'pinhole',\n",
       " 'camera',\n",
       " 'projective',\n",
       " 'trifocal',\n",
       " '===',\n",
       " 'registration===',\n",
       " 'active',\n",
       " 'appearance',\n",
       " 'model',\n",
       " 'cross-',\n",
       " 'geometric',\n",
       " 'graph',\n",
       " 'cut',\n",
       " 'least',\n",
       " 'squares',\n",
       " 'image',\n",
       " 'image',\n",
       " 'level-set',\n",
       " 'markov',\n",
       " 'random',\n",
       " 'medial',\n",
       " 'motion',\n",
       " 'motion',\n",
       " 'multispectral',\n",
       " 'normalized',\n",
       " 'cut',\n",
       " 'optical',\n",
       " 'particle',\n",
       " 'scale',\n",
       " '===',\n",
       " 'visual',\n",
       " 'recognition===',\n",
       " 'object',\n",
       " 'scale-invariant',\n",
       " 'feature',\n",
       " 'transform',\n",
       " 'gesture',\n",
       " 'bag-of-words',\n",
       " 'model',\n",
       " 'computer',\n",
       " 'kadir–brady',\n",
       " 'saliency',\n",
       " '==',\n",
       " 'commercial',\n",
       " 'computer',\n",
       " 'vision',\n",
       " 'systems==',\n",
       " 'aphelion',\n",
       " 'microsoft',\n",
       " 'poseidon',\n",
       " 'drowning',\n",
       " 'detection',\n",
       " 'visage',\n",
       " '==',\n",
       " 'applications==',\n",
       " '3d',\n",
       " 'reconstruction',\n",
       " 'multiple',\n",
       " 'audio-visual',\n",
       " 'speech',\n",
       " 'augmented',\n",
       " 'augmented',\n",
       " 'reality-assisted',\n",
       " 'automated',\n",
       " 'optical',\n",
       " 'automatic',\n",
       " 'image',\n",
       " 'automatic',\n",
       " 'number',\n",
       " 'plate',\n",
       " 'automatic',\n",
       " 'target',\n",
       " 'check',\n",
       " 'closed-circuit',\n",
       " 'computer',\n",
       " 'stereo',\n",
       " 'contextual',\n",
       " 'image',\n",
       " 'darpa',\n",
       " 'lagr',\n",
       " 'digital',\n",
       " 'video',\n",
       " 'document',\n",
       " 'facial',\n",
       " 'recognition',\n",
       " 'geometric',\n",
       " 'feature',\n",
       " 'gesture',\n",
       " 'image',\n",
       " 'collection',\n",
       " 'image',\n",
       " 'content-based',\n",
       " 'image',\n",
       " 'reverse',\n",
       " 'image',\n",
       " 'image-based',\n",
       " 'modeling',\n",
       " 'integrated',\n",
       " 'mail',\n",
       " 'iris',\n",
       " 'machine',\n",
       " 'mobile',\n",
       " 'navigation',\n",
       " 'system',\n",
       " 'components',\n",
       " 'autonomous',\n",
       " 'mobile',\n",
       " 'object',\n",
       " 'optical',\n",
       " 'braille',\n",
       " 'optical',\n",
       " 'character',\n",
       " 'intelligent',\n",
       " 'character',\n",
       " 'pedestrian',\n",
       " 'people',\n",
       " 'physical',\n",
       " 'red',\n",
       " 'light',\n",
       " 'remote',\n",
       " 'smart',\n",
       " 'traffic',\n",
       " 'enforcement',\n",
       " 'traffic',\n",
       " 'sign',\n",
       " 'vehicle',\n",
       " 'infrastructure',\n",
       " 'velocity',\n",
       " 'video',\n",
       " 'content',\n",
       " 'view',\n",
       " 'visual',\n",
       " 'sensor',\n",
       " 'visual',\n",
       " 'water',\n",
       " 'remote',\n",
       " '==',\n",
       " 'computer',\n",
       " 'vision',\n",
       " 'companies==',\n",
       " 'cognex',\n",
       " 'isra',\n",
       " 'omek',\n",
       " 'scantron',\n",
       " 'view',\n",
       " '==',\n",
       " 'computer',\n",
       " 'vision',\n",
       " 'publications==',\n",
       " 'electronic',\n",
       " 'letters',\n",
       " 'computer',\n",
       " 'vision',\n",
       " 'image',\n",
       " 'international',\n",
       " 'journal',\n",
       " 'computer',\n",
       " '==',\n",
       " 'computer',\n",
       " 'vision',\n",
       " 'organizations==',\n",
       " 'conference',\n",
       " 'computer',\n",
       " 'vision',\n",
       " 'pattern',\n",
       " 'european',\n",
       " 'conference',\n",
       " 'computer',\n",
       " 'international',\n",
       " 'conference',\n",
       " 'computer',\n",
       " 'international',\n",
       " 'conferences',\n",
       " 'central',\n",
       " 'europe',\n",
       " 'computer',\n",
       " 'graphics',\n",
       " 'visualization',\n",
       " 'computer',\n",
       " '==',\n",
       " 'persons',\n",
       " 'influential',\n",
       " 'computer',\n",
       " 'vision==',\n",
       " '==',\n",
       " 'see',\n",
       " 'also==',\n",
       " 'outline',\n",
       " 'artificial',\n",
       " 'outline',\n",
       " 'list',\n",
       " 'computer',\n",
       " 'graphics',\n",
       " 'descriptive',\n",
       " 'geometry',\n",
       " 'virtual',\n",
       " 'design',\n",
       " '==',\n",
       " 'references==',\n",
       " '==',\n",
       " 'external',\n",
       " 'links==',\n",
       " 'usc',\n",
       " 'iris',\n",
       " 'computer',\n",
       " 'vision',\n",
       " 'conference',\n",
       " 'computer',\n",
       " 'vision',\n",
       " 'papers',\n",
       " 'web',\n",
       " 'complete',\n",
       " 'list',\n",
       " 'papers',\n",
       " 'relevant',\n",
       " 'computer',\n",
       " 'vision',\n",
       " 'conferences',\n",
       " 'computer',\n",
       " 'vision',\n",
       " 'online',\n",
       " 'news',\n",
       " 'source',\n",
       " 'code',\n",
       " 'datasets',\n",
       " 'job',\n",
       " 'offers',\n",
       " 'related',\n",
       " 'computer',\n",
       " 'vision',\n",
       " 'keith',\n",
       " 'price',\n",
       " \"'s\",\n",
       " 'annotated',\n",
       " 'computer',\n",
       " 'vision',\n",
       " 'cvonline',\n",
       " 'bob',\n",
       " 'fisher',\n",
       " \"'s\",\n",
       " 'compendium',\n",
       " 'computer',\n",
       " 'vision',\n",
       " 'british',\n",
       " 'machine',\n",
       " 'vision',\n",
       " 'association',\n",
       " 'supporting',\n",
       " 'computer',\n",
       " 'vision',\n",
       " 'research',\n",
       " 'within',\n",
       " 'uk',\n",
       " 'via',\n",
       " 'bmvc',\n",
       " 'miua',\n",
       " 'conferences',\n",
       " 'annals',\n",
       " 'bmva',\n",
       " 'open-source',\n",
       " 'journal',\n",
       " 'bmva',\n",
       " 'summer',\n",
       " 'school',\n",
       " 'one-day',\n",
       " 'meetings']"
      ]
     },
     "execution_count": 57,
     "metadata": {},
     "output_type": "execute_result"
    }
   ],
   "source": [
    "df.article[0]"
   ]
  },
  {
   "cell_type": "code",
   "execution_count": null,
   "metadata": {},
   "outputs": [],
   "source": []
  }
 ],
 "metadata": {
  "kernelspec": {
   "display_name": "Python 3",
   "language": "python",
   "name": "python3"
  },
  "language_info": {
   "codemirror_mode": {
    "name": "ipython",
    "version": 3
   },
   "file_extension": ".py",
   "mimetype": "text/x-python",
   "name": "python",
   "nbconvert_exporter": "python",
   "pygments_lexer": "ipython3",
   "version": "3.7.4"
  }
 },
 "nbformat": 4,
 "nbformat_minor": 2
}
