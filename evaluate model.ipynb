{
 "cells": [
  {
   "cell_type": "code",
   "execution_count": 58,
   "metadata": {},
   "outputs": [],
   "source": [
    "import nltk\n",
    "import pandas as pd"
   ]
  },
  {
   "cell_type": "code",
   "execution_count": 49,
   "metadata": {},
   "outputs": [],
   "source": [
    "from collections import Counter"
   ]
  },
  {
   "cell_type": "code",
   "execution_count": 91,
   "metadata": {},
   "outputs": [],
   "source": [
    "from nltk.corpus import stopwords\n",
    "from sklearn.metrics import f1_score"
   ]
  },
  {
   "cell_type": "code",
   "execution_count": 4,
   "metadata": {},
   "outputs": [],
   "source": [
    "data = pd.read_csv(r\"D:\\Data\\wikipedia-ml\\wikipedia_machine_learning.csv\",sep='\\t')"
   ]
  },
  {
   "cell_type": "markdown",
   "metadata": {},
   "source": [
    "The format of the data is that each row is a series, and each series has 3 elements: 0:title, 1: url, 2: body text "
   ]
  },
  {
   "cell_type": "code",
   "execution_count": 5,
   "metadata": {},
   "outputs": [],
   "source": [
    "articles = data.apply(lambda x: x[2], axis=1)"
   ]
  },
  {
   "cell_type": "code",
   "execution_count": 6,
   "metadata": {},
   "outputs": [],
   "source": [
    "titles = data.apply(lambda x: x[0], axis=1)"
   ]
  },
  {
   "cell_type": "code",
   "execution_count": 7,
   "metadata": {},
   "outputs": [],
   "source": [
    "urls = data.apply(lambda x: x[1], axis=1)"
   ]
  },
  {
   "cell_type": "code",
   "execution_count": 8,
   "metadata": {},
   "outputs": [],
   "source": [
    "df = pd.concat([titles,urls,articles],axis=1)"
   ]
  },
  {
   "cell_type": "code",
   "execution_count": 9,
   "metadata": {},
   "outputs": [],
   "source": [
    "df.columns = ['title', 'url','original_article']"
   ]
  },
  {
   "cell_type": "code",
   "execution_count": 10,
   "metadata": {},
   "outputs": [
    {
     "data": {
      "text/html": [
       "<div>\n",
       "<style scoped>\n",
       "    .dataframe tbody tr th:only-of-type {\n",
       "        vertical-align: middle;\n",
       "    }\n",
       "\n",
       "    .dataframe tbody tr th {\n",
       "        vertical-align: top;\n",
       "    }\n",
       "\n",
       "    .dataframe thead th {\n",
       "        text-align: right;\n",
       "    }\n",
       "</style>\n",
       "<table border=\"1\" class=\"dataframe\">\n",
       "  <thead>\n",
       "    <tr style=\"text-align: right;\">\n",
       "      <th></th>\n",
       "      <th>title</th>\n",
       "      <th>url</th>\n",
       "      <th>original_article</th>\n",
       "    </tr>\n",
       "  </thead>\n",
       "  <tbody>\n",
       "    <tr>\n",
       "      <td>0</td>\n",
       "      <td>Outline of computer vision</td>\n",
       "      <td>https://en.wikipedia.org/wiki/Outline_of_compu...</td>\n",
       "      <td>The following outline is provided as an overvi...</td>\n",
       "    </tr>\n",
       "    <tr>\n",
       "      <td>1</td>\n",
       "      <td>Outline of natural language processing</td>\n",
       "      <td>https://en.wikipedia.org/wiki/Outline_of_natur...</td>\n",
       "      <td>The following outline is provided as an overvi...</td>\n",
       "    </tr>\n",
       "    <tr>\n",
       "      <td>2</td>\n",
       "      <td>Outline of robotics</td>\n",
       "      <td>https://en.wikipedia.org/wiki/Outline_of_robotics</td>\n",
       "      <td>The following outline is provided as an overvi...</td>\n",
       "    </tr>\n",
       "    <tr>\n",
       "      <td>3</td>\n",
       "      <td>Accuracy paradox</td>\n",
       "      <td>https://en.wikipedia.org/wiki/Accuracy_paradox</td>\n",
       "      <td>The accuracy paradox is the paradoxical findin...</td>\n",
       "    </tr>\n",
       "    <tr>\n",
       "      <td>4</td>\n",
       "      <td>Action model learning</td>\n",
       "      <td>https://en.wikipedia.org/wiki/Action_model_lea...</td>\n",
       "      <td>Action model learning(sometimes abbreviated ac...</td>\n",
       "    </tr>\n",
       "  </tbody>\n",
       "</table>\n",
       "</div>"
      ],
      "text/plain": [
       "                                    title  \\\n",
       "0              Outline of computer vision   \n",
       "1  Outline of natural language processing   \n",
       "2                     Outline of robotics   \n",
       "3                        Accuracy paradox   \n",
       "4                   Action model learning   \n",
       "\n",
       "                                                 url  \\\n",
       "0  https://en.wikipedia.org/wiki/Outline_of_compu...   \n",
       "1  https://en.wikipedia.org/wiki/Outline_of_natur...   \n",
       "2  https://en.wikipedia.org/wiki/Outline_of_robotics   \n",
       "3     https://en.wikipedia.org/wiki/Accuracy_paradox   \n",
       "4  https://en.wikipedia.org/wiki/Action_model_lea...   \n",
       "\n",
       "                                    original_article  \n",
       "0  The following outline is provided as an overvi...  \n",
       "1  The following outline is provided as an overvi...  \n",
       "2  The following outline is provided as an overvi...  \n",
       "3  The accuracy paradox is the paradoxical findin...  \n",
       "4  Action model learning(sometimes abbreviated ac...  "
      ]
     },
     "execution_count": 10,
     "metadata": {},
     "output_type": "execute_result"
    }
   ],
   "source": [
    "df.head()"
   ]
  },
  {
   "cell_type": "markdown",
   "metadata": {},
   "source": [
    "The next stage is to apply typical NLP preprocessing steps before looking at what words tend to be used often:\n",
    "- lowercase\n",
    "- remove stopwords"
   ]
  },
  {
   "cell_type": "code",
   "execution_count": 11,
   "metadata": {},
   "outputs": [
    {
     "data": {
      "text/plain": [
       "[float, str]"
      ]
     },
     "execution_count": 11,
     "metadata": {},
     "output_type": "execute_result"
    }
   ],
   "source": [
    "list(set([type(a) for a in df.original_article]))"
   ]
  },
  {
   "cell_type": "code",
   "execution_count": 12,
   "metadata": {},
   "outputs": [],
   "source": [
    "float_cols = df[df['original_article'].apply(lambda x: isinstance(x, float))]"
   ]
  },
  {
   "cell_type": "code",
   "execution_count": 13,
   "metadata": {},
   "outputs": [
    {
     "data": {
      "text/html": [
       "<div>\n",
       "<style scoped>\n",
       "    .dataframe tbody tr th:only-of-type {\n",
       "        vertical-align: middle;\n",
       "    }\n",
       "\n",
       "    .dataframe tbody tr th {\n",
       "        vertical-align: top;\n",
       "    }\n",
       "\n",
       "    .dataframe thead th {\n",
       "        text-align: right;\n",
       "    }\n",
       "</style>\n",
       "<table border=\"1\" class=\"dataframe\">\n",
       "  <thead>\n",
       "    <tr style=\"text-align: right;\">\n",
       "      <th></th>\n",
       "      <th>title</th>\n",
       "      <th>url</th>\n",
       "      <th>original_article</th>\n",
       "    </tr>\n",
       "  </thead>\n",
       "  <tbody>\n",
       "    <tr>\n",
       "      <td>100</td>\n",
       "      <td>Category:Robotics suites</td>\n",
       "      <td>https://en.wikipedia.org/wiki/Category:Robotic...</td>\n",
       "      <td>NaN</td>\n",
       "    </tr>\n",
       "    <tr>\n",
       "      <td>5449</td>\n",
       "      <td>Category:Search algorithms</td>\n",
       "      <td>https://en.wikipedia.org/wiki/Category:Search_...</td>\n",
       "      <td>NaN</td>\n",
       "    </tr>\n",
       "  </tbody>\n",
       "</table>\n",
       "</div>"
      ],
      "text/plain": [
       "                           title  \\\n",
       "100     Category:Robotics suites   \n",
       "5449  Category:Search algorithms   \n",
       "\n",
       "                                                    url original_article  \n",
       "100   https://en.wikipedia.org/wiki/Category:Robotic...              NaN  \n",
       "5449  https://en.wikipedia.org/wiki/Category:Search_...              NaN  "
      ]
     },
     "execution_count": 13,
     "metadata": {},
     "output_type": "execute_result"
    }
   ],
   "source": [
    "float_cols.head()"
   ]
  },
  {
   "cell_type": "code",
   "execution_count": 14,
   "metadata": {},
   "outputs": [
    {
     "data": {
      "text/plain": [
       "2"
      ]
     },
     "execution_count": 14,
     "metadata": {},
     "output_type": "execute_result"
    }
   ],
   "source": [
    "df['original_article'].isna().sum()"
   ]
  },
  {
   "cell_type": "markdown",
   "metadata": {},
   "source": [
    "There's not many nulls, I'm just going to drop them, I'd check the proportion of nulls, but since the number of instances is in the thousands, and this is 2, I'm just going to drop them"
   ]
  },
  {
   "cell_type": "code",
   "execution_count": 15,
   "metadata": {
    "scrolled": true
   },
   "outputs": [
    {
     "data": {
      "text/plain": [
       "(7316, 3)"
      ]
     },
     "execution_count": 15,
     "metadata": {},
     "output_type": "execute_result"
    }
   ],
   "source": [
    "df = df.dropna(how='any')\n",
    "df.shape"
   ]
  },
  {
   "cell_type": "code",
   "execution_count": 16,
   "metadata": {
    "scrolled": true
   },
   "outputs": [],
   "source": [
    "articles = df['original_article'].apply(lambda s: s.lower())"
   ]
  },
  {
   "cell_type": "markdown",
   "metadata": {},
   "source": [
    "I need to create a dataframe with a column for each word, where the row is the count of that word in that article"
   ]
  },
  {
   "cell_type": "code",
   "execution_count": 17,
   "metadata": {
    "scrolled": true
   },
   "outputs": [],
   "source": [
    "articles = articles.apply(lambda row: nltk.word_tokenize(row))"
   ]
  },
  {
   "cell_type": "code",
   "execution_count": 18,
   "metadata": {
    "scrolled": false
   },
   "outputs": [
    {
     "data": {
      "text/plain": [
       "0    [the, following, outline, is, provided, as, an...\n",
       "1    [the, following, outline, is, provided, as, an...\n",
       "2    [the, following, outline, is, provided, as, an...\n",
       "3    [the, accuracy, paradox, is, the, paradoxical,...\n",
       "4    [action, model, learning, (, sometimes, abbrev...\n",
       "Name: original_article, dtype: object"
      ]
     },
     "execution_count": 18,
     "metadata": {},
     "output_type": "execute_result"
    }
   ],
   "source": [
    "articles.head()"
   ]
  },
  {
   "cell_type": "code",
   "execution_count": 19,
   "metadata": {},
   "outputs": [],
   "source": [
    "stop_words = set(stopwords.words('english')) "
   ]
  },
  {
   "cell_type": "markdown",
   "metadata": {},
   "source": [
    "I was conservative with removing the punctuation, because some of it might be important, like ? especially, and =="
   ]
  },
  {
   "cell_type": "code",
   "execution_count": 20,
   "metadata": {},
   "outputs": [],
   "source": [
    "punctuation = \"()'',.:\""
   ]
  },
  {
   "cell_type": "raw",
   "metadata": {},
   "source": [
    "[w for w in t if w not in stop_words and w not in punctuation]"
   ]
  },
  {
   "cell_type": "markdown",
   "metadata": {},
   "source": [
    "I need to remove punctuation as well as stopwords"
   ]
  },
  {
   "cell_type": "code",
   "execution_count": 21,
   "metadata": {},
   "outputs": [],
   "source": [
    "def remove_unwanted(tokens):\n",
    "    tokens = [w for w in t if w not in stop_words and w not in punctuation]\n",
    "    return tokens"
   ]
  },
  {
   "cell_type": "code",
   "execution_count": 22,
   "metadata": {},
   "outputs": [
    {
     "data": {
      "text/plain": [
       "\"()'',.:\""
      ]
     },
     "execution_count": 22,
     "metadata": {},
     "output_type": "execute_result"
    }
   ],
   "source": [
    "punctuation"
   ]
  },
  {
   "cell_type": "code",
   "execution_count": 23,
   "metadata": {},
   "outputs": [],
   "source": [
    "a = articles.loc[0]"
   ]
  },
  {
   "cell_type": "code",
   "execution_count": 24,
   "metadata": {},
   "outputs": [],
   "source": [
    "articles = articles.apply(lambda x: [w for w in x if w not in stop_words and w not in punctuation])"
   ]
  },
  {
   "cell_type": "code",
   "execution_count": 25,
   "metadata": {},
   "outputs": [
    {
     "name": "stdout",
     "output_type": "stream",
     "text": [
      "(7316,)\n",
      "(7316, 3)\n"
     ]
    }
   ],
   "source": [
    "print(articles.shape)\n",
    "print(df.shape)"
   ]
  },
  {
   "cell_type": "code",
   "execution_count": 26,
   "metadata": {},
   "outputs": [],
   "source": [
    "c = Counter(a)"
   ]
  },
  {
   "cell_type": "code",
   "execution_count": 27,
   "metadata": {},
   "outputs": [],
   "source": [
    "#df.drop('article',axis=1)\n",
    "df['article']=articles"
   ]
  },
  {
   "cell_type": "markdown",
   "metadata": {},
   "source": [
    "next: sort columns by count frequency\n",
    "\n",
    "next make a dataframe with the most frequent words"
   ]
  },
  {
   "cell_type": "markdown",
   "metadata": {},
   "source": [
    "Something like this https://www.aclweb.org/anthology/W15-1526.pdf would be good to try - supposedly outperforms LDA, but"
   ]
  },
  {
   "cell_type": "code",
   "execution_count": 58,
   "metadata": {
    "scrolled": false
   },
   "outputs": [],
   "source": [
    "df['length'] = articles.apply(lambda x: len(x))"
   ]
  },
  {
   "cell_type": "code",
   "execution_count": 59,
   "metadata": {},
   "outputs": [
    {
     "data": {
      "text/plain": [
       "count     7316.000000\n",
       "mean      1324.216785\n",
       "std       1505.295536\n",
       "min          4.000000\n",
       "25%        346.000000\n",
       "50%        808.000000\n",
       "75%       1711.000000\n",
       "max      17054.000000\n",
       "Name: length, dtype: float64"
      ]
     },
     "execution_count": 59,
     "metadata": {},
     "output_type": "execute_result"
    }
   ],
   "source": [
    "df['length'].describe()"
   ]
  },
  {
   "cell_type": "markdown",
   "metadata": {},
   "source": [
    "With this, discarding articles with less than a threshold of non-stopwords will help train an algorithm"
   ]
  },
  {
   "cell_type": "raw",
   "metadata": {},
   "source": [
    "df['original_article'][0]"
   ]
  },
  {
   "cell_type": "raw",
   "metadata": {
    "scrolled": false
   },
   "source": [
    "df.article[0]"
   ]
  },
  {
   "cell_type": "code",
   "execution_count": 29,
   "metadata": {},
   "outputs": [],
   "source": [
    "import topicgetter"
   ]
  },
  {
   "cell_type": "code",
   "execution_count": 30,
   "metadata": {
    "scrolled": true
   },
   "outputs": [
    {
     "name": "stdout",
     "output_type": "stream",
     "text": [
      "shape:  (7316, 1000)\n"
     ]
    }
   ],
   "source": [
    "model, terms, topic_dict = topicgetter.make_topics(articles, 20)"
   ]
  },
  {
   "cell_type": "code",
   "execution_count": null,
   "metadata": {},
   "outputs": [],
   "source": [
    "type(terms)"
   ]
  },
  {
   "cell_type": "code",
   "execution_count": null,
   "metadata": {},
   "outputs": [],
   "source": [
    "len(terms)"
   ]
  },
  {
   "cell_type": "code",
   "execution_count": null,
   "metadata": {},
   "outputs": [],
   "source": [
    "len(model.components_)"
   ]
  },
  {
   "cell_type": "code",
   "execution_count": null,
   "metadata": {},
   "outputs": [],
   "source": [
    "topic_dict = {}"
   ]
  },
  {
   "cell_type": "code",
   "execution_count": null,
   "metadata": {},
   "outputs": [],
   "source": [
    "for i, comp in enumerate(model.components_):\n",
    "        terms_comp = zip(terms, comp)\n",
    "        sorted_terms = sorted(terms_comp, key= lambda x:x[1], reverse=True)[:7]\n",
    "        #print(\"Topic \"+str(i)+\": \")\n",
    "        specific_terms = []\n",
    "        for t in sorted_terms:\n",
    "            #print(t[0])\n",
    "            #print(\" \")\n",
    "            specific_terms.append(t[0])\n",
    "        \n",
    "        topic_dict[\"Topic\"+str(i)] = specific_terms"
   ]
  },
  {
   "cell_type": "code",
   "execution_count": null,
   "metadata": {},
   "outputs": [],
   "source": [
    "for i in range(5):\n",
    "    topic_dict[\"Topic\"+str(i)] = 0"
   ]
  },
  {
   "cell_type": "code",
   "execution_count": null,
   "metadata": {},
   "outputs": [],
   "source": [
    "topic_dict"
   ]
  },
  {
   "cell_type": "markdown",
   "metadata": {},
   "source": [
    "# Get some topics per article"
   ]
  },
  {
   "cell_type": "code",
   "execution_count": 73,
   "metadata": {
    "scrolled": true
   },
   "outputs": [],
   "source": [
    "df['topics'] = df.title.copy().apply(lambda x: ''.join([c for c in x if c not in punctuation]))"
   ]
  },
  {
   "cell_type": "code",
   "execution_count": 74,
   "metadata": {},
   "outputs": [],
   "source": [
    "df['topics'] = df.title.copy().apply(lambda x: x.lower())"
   ]
  },
  {
   "cell_type": "code",
   "execution_count": 75,
   "metadata": {},
   "outputs": [],
   "source": [
    "df.topics = df.topics.copy().apply(lambda x: nltk.word_tokenize(x))"
   ]
  },
  {
   "cell_type": "code",
   "execution_count": 76,
   "metadata": {},
   "outputs": [],
   "source": [
    "df.topics = df.topics.copy().apply(lambda x: [w for w in x if w not in stop_words])"
   ]
  },
  {
   "cell_type": "raw",
   "metadata": {},
   "source": [
    "df.text_topics = df.original_article.copy().apply(lambda x: ' '.join(nltk.sent_tokenize(x)[:3]))\n",
    "\n",
    "df.text_topics"
   ]
  },
  {
   "cell_type": "code",
   "execution_count": 78,
   "metadata": {},
   "outputs": [],
   "source": [
    "df.topics =  df.topics.copy().apply(lambda x: [w.lower() for w in x])"
   ]
  },
  {
   "cell_type": "markdown",
   "metadata": {},
   "source": [
    "this is going to be really simple: just see which of the terms extracted are in an article, divide by number of words in article"
   ]
  },
  {
   "cell_type": "code",
   "execution_count": 79,
   "metadata": {},
   "outputs": [
    {
     "data": {
      "text/plain": [
       "['000',\n",
       " '10',\n",
       " '100',\n",
       " '11',\n",
       " '12',\n",
       " '15',\n",
       " '16',\n",
       " '20',\n",
       " '2000',\n",
       " '2001',\n",
       " '2002',\n",
       " '2003',\n",
       " '2004',\n",
       " '2005',\n",
       " '2006',\n",
       " '2007',\n",
       " '2008',\n",
       " '2009',\n",
       " '2010',\n",
       " '2011',\n",
       " '2012',\n",
       " '2013',\n",
       " '2014',\n",
       " '2015',\n",
       " '2016',\n",
       " '2017',\n",
       " '3d',\n",
       " '978',\n",
       " 'a_',\n",
       " 'ability',\n",
       " 'able',\n",
       " 'academic',\n",
       " 'access',\n",
       " 'according',\n",
       " 'account',\n",
       " 'accuracy',\n",
       " 'accurate',\n",
       " 'act',\n",
       " 'action',\n",
       " 'actions',\n",
       " 'active',\n",
       " 'activities',\n",
       " 'activity',\n",
       " 'actual',\n",
       " 'actually',\n",
       " 'added',\n",
       " 'addition',\n",
       " 'additional',\n",
       " 'address',\n",
       " 'advanced',\n",
       " 'age',\n",
       " 'agent',\n",
       " 'ai',\n",
       " 'al',\n",
       " 'algebra',\n",
       " 'algorithm',\n",
       " 'algorithms',\n",
       " 'aligned',\n",
       " 'allow',\n",
       " 'allowed',\n",
       " 'allowing',\n",
       " 'allows',\n",
       " 'alpha',\n",
       " 'alternative',\n",
       " 'american',\n",
       " 'analysis',\n",
       " 'appear',\n",
       " 'application',\n",
       " 'applications',\n",
       " 'applied',\n",
       " 'apply',\n",
       " 'approach',\n",
       " 'approaches',\n",
       " 'appropriate',\n",
       " 'approximation',\n",
       " 'architecture',\n",
       " 'area',\n",
       " 'areas',\n",
       " 'argued',\n",
       " 'argument',\n",
       " 'array',\n",
       " 'art',\n",
       " 'article',\n",
       " 'artificial',\n",
       " 'aspects',\n",
       " 'associated',\n",
       " 'association',\n",
       " 'assumption',\n",
       " 'attention',\n",
       " 'audio',\n",
       " 'authors',\n",
       " 'automated',\n",
       " 'automatic',\n",
       " 'available',\n",
       " 'average',\n",
       " 'b_',\n",
       " 'bar',\n",
       " 'base',\n",
       " 'basic',\n",
       " 'basis',\n",
       " 'bayesian',\n",
       " 'began',\n",
       " 'begin',\n",
       " 'behavior',\n",
       " 'best',\n",
       " 'beta',\n",
       " 'better',\n",
       " 'bias',\n",
       " 'big',\n",
       " 'binary',\n",
       " 'biological',\n",
       " 'biology',\n",
       " 'bit',\n",
       " 'black',\n",
       " 'block',\n",
       " 'bmatrix',\n",
       " 'body',\n",
       " 'boldsymbol',\n",
       " 'book',\n",
       " 'brain',\n",
       " 'building',\n",
       " 'built',\n",
       " 'business',\n",
       " 'c_',\n",
       " 'cambridge',\n",
       " 'case',\n",
       " 'cases',\n",
       " 'categories',\n",
       " 'category',\n",
       " 'cause',\n",
       " 'causes',\n",
       " 'cdot',\n",
       " 'cdots',\n",
       " 'cell',\n",
       " 'cells',\n",
       " 'center',\n",
       " 'central',\n",
       " 'century',\n",
       " 'certain',\n",
       " 'chain',\n",
       " 'change',\n",
       " 'changes',\n",
       " 'channel',\n",
       " 'character',\n",
       " 'characteristics',\n",
       " 'characters',\n",
       " 'children',\n",
       " 'choice',\n",
       " 'chosen',\n",
       " 'class',\n",
       " 'classes',\n",
       " 'classical',\n",
       " 'classification',\n",
       " 'close',\n",
       " 'closed',\n",
       " 'cluster',\n",
       " 'clustering',\n",
       " 'code',\n",
       " 'codes',\n",
       " 'coding',\n",
       " 'cognitive',\n",
       " 'collection',\n",
       " 'color',\n",
       " 'combination',\n",
       " 'come',\n",
       " 'commercial',\n",
       " 'common',\n",
       " 'commonly',\n",
       " 'communication',\n",
       " 'community',\n",
       " 'companies',\n",
       " 'company',\n",
       " 'compared',\n",
       " 'comparison',\n",
       " 'complete',\n",
       " 'complex',\n",
       " 'complexity',\n",
       " 'component',\n",
       " 'components',\n",
       " 'computation',\n",
       " 'computational',\n",
       " 'computer',\n",
       " 'computers',\n",
       " 'computing',\n",
       " 'concept',\n",
       " 'concepts',\n",
       " 'condition',\n",
       " 'conditional',\n",
       " 'conditions',\n",
       " 'conference',\n",
       " 'connected',\n",
       " 'consider',\n",
       " 'considered',\n",
       " 'consists',\n",
       " 'constant',\n",
       " 'constraints',\n",
       " 'construction',\n",
       " 'contain',\n",
       " 'contains',\n",
       " 'content',\n",
       " 'context',\n",
       " 'continuous',\n",
       " 'contrast',\n",
       " 'control',\n",
       " 'core',\n",
       " 'correct',\n",
       " 'correlation',\n",
       " 'corresponding',\n",
       " 'cost',\n",
       " 'countries',\n",
       " 'create',\n",
       " 'created',\n",
       " 'creating',\n",
       " 'creation',\n",
       " 'critical',\n",
       " 'cross',\n",
       " 'current',\n",
       " 'customer',\n",
       " 'database',\n",
       " 'david',\n",
       " 'day',\n",
       " 'decision',\n",
       " 'decisions',\n",
       " 'deep',\n",
       " 'define',\n",
       " 'defined',\n",
       " 'definition',\n",
       " 'degree',\n",
       " 'delta',\n",
       " 'density',\n",
       " 'dependent',\n",
       " 'depending',\n",
       " 'depends',\n",
       " 'derived',\n",
       " 'described',\n",
       " 'describes',\n",
       " 'description',\n",
       " 'design',\n",
       " 'designed',\n",
       " 'detection',\n",
       " 'determine',\n",
       " 'determined',\n",
       " 'develop',\n",
       " 'developed',\n",
       " 'development',\n",
       " 'device',\n",
       " 'devices',\n",
       " 'difference',\n",
       " 'differences',\n",
       " 'differential',\n",
       " 'difficult',\n",
       " 'digital',\n",
       " 'dimension',\n",
       " 'dimensional',\n",
       " 'dimensions',\n",
       " 'direct',\n",
       " 'direction',\n",
       " 'directly',\n",
       " 'discrete',\n",
       " 'disease',\n",
       " 'distance',\n",
       " 'distinct',\n",
       " 'distributed',\n",
       " 'distribution',\n",
       " 'distributions',\n",
       " 'dna',\n",
       " 'document',\n",
       " 'doi',\n",
       " 'domain',\n",
       " 'dots',\n",
       " 'dynamic',\n",
       " 'early',\n",
       " 'earth',\n",
       " 'easily',\n",
       " 'economic',\n",
       " 'economics',\n",
       " 'ed',\n",
       " 'edge',\n",
       " 'education',\n",
       " 'effect',\n",
       " 'effective',\n",
       " 'effects',\n",
       " 'efficient',\n",
       " 'electronic',\n",
       " 'element',\n",
       " 'elements',\n",
       " 'empirical',\n",
       " 'end',\n",
       " 'energy',\n",
       " 'engine',\n",
       " 'engineering',\n",
       " 'english',\n",
       " 'entire',\n",
       " 'entropy',\n",
       " 'environment',\n",
       " 'equal',\n",
       " 'equation',\n",
       " 'equations',\n",
       " 'equivalent',\n",
       " 'error',\n",
       " 'errors',\n",
       " 'especially',\n",
       " 'established',\n",
       " 'estimate',\n",
       " 'estimated',\n",
       " 'estimation',\n",
       " 'et',\n",
       " 'european',\n",
       " 'evaluation',\n",
       " 'event',\n",
       " 'events',\n",
       " 'evidence',\n",
       " 'evolution',\n",
       " 'evolutionary',\n",
       " 'examples',\n",
       " 'exist',\n",
       " 'existence',\n",
       " 'existing',\n",
       " 'exists',\n",
       " 'expected',\n",
       " 'experience',\n",
       " 'experiment',\n",
       " 'experimental',\n",
       " 'experiments',\n",
       " 'expressed',\n",
       " 'expression',\n",
       " 'extended',\n",
       " 'f_',\n",
       " 'face',\n",
       " 'fact',\n",
       " 'factor',\n",
       " 'factors',\n",
       " 'false',\n",
       " 'family',\n",
       " 'far',\n",
       " 'feature',\n",
       " 'features',\n",
       " 'feedback',\n",
       " 'field',\n",
       " 'fields',\n",
       " 'file',\n",
       " 'filter',\n",
       " 'final',\n",
       " 'financial',\n",
       " 'finding',\n",
       " 'finite',\n",
       " 'fit',\n",
       " 'fixed',\n",
       " 'flow',\n",
       " 'focus',\n",
       " 'following',\n",
       " 'follows',\n",
       " 'force',\n",
       " 'form',\n",
       " 'formal',\n",
       " 'format',\n",
       " 'forms',\n",
       " 'formula',\n",
       " 'fourier',\n",
       " 'frac',\n",
       " 'framework',\n",
       " 'free',\n",
       " 'frequency',\n",
       " 'function',\n",
       " 'functional',\n",
       " 'functions',\n",
       " 'fundamental',\n",
       " 'future',\n",
       " 'fuzzy',\n",
       " 'game',\n",
       " 'games',\n",
       " 'gamma',\n",
       " 'gaussian',\n",
       " 'gene',\n",
       " 'general',\n",
       " 'generalized',\n",
       " 'generally',\n",
       " 'generate',\n",
       " 'generated',\n",
       " 'generation',\n",
       " 'genetic',\n",
       " 'geometry',\n",
       " 'geq',\n",
       " 'given',\n",
       " 'gives',\n",
       " 'global',\n",
       " 'goal',\n",
       " 'good',\n",
       " 'google',\n",
       " 'government',\n",
       " 'graph',\n",
       " 'graphics',\n",
       " 'great',\n",
       " 'greater',\n",
       " 'group',\n",
       " 'groups',\n",
       " 'growth',\n",
       " 'h_',\n",
       " 'hand',\n",
       " 'hard',\n",
       " 'hardware',\n",
       " 'hat',\n",
       " 'health',\n",
       " 'help',\n",
       " 'hidden',\n",
       " 'high',\n",
       " 'higher',\n",
       " 'highly',\n",
       " 'history',\n",
       " 'home',\n",
       " 'human',\n",
       " 'humans',\n",
       " 'hypothesis',\n",
       " 'idea',\n",
       " 'ideas',\n",
       " 'identified',\n",
       " 'identify',\n",
       " 'identity',\n",
       " 'ii',\n",
       " 'image',\n",
       " 'images',\n",
       " 'impact',\n",
       " 'implementation',\n",
       " 'implemented',\n",
       " 'important',\n",
       " 'improve',\n",
       " 'include',\n",
       " 'included',\n",
       " 'includes',\n",
       " 'including',\n",
       " 'increase',\n",
       " 'increased',\n",
       " 'increasing',\n",
       " 'independent',\n",
       " 'index',\n",
       " 'individual',\n",
       " 'individuals',\n",
       " 'industrial',\n",
       " 'industry',\n",
       " 'inference',\n",
       " 'infinite',\n",
       " 'influence',\n",
       " 'information',\n",
       " 'infty',\n",
       " 'initial',\n",
       " 'input',\n",
       " 'inputs',\n",
       " 'instance',\n",
       " 'instead',\n",
       " 'institute',\n",
       " 'int_',\n",
       " 'integral',\n",
       " 'integration',\n",
       " 'intelligence',\n",
       " 'intelligent',\n",
       " 'interaction',\n",
       " 'interactions',\n",
       " 'interface',\n",
       " 'internal',\n",
       " 'international',\n",
       " 'internet',\n",
       " 'interpretation',\n",
       " 'interval',\n",
       " 'introduced',\n",
       " 'introduction',\n",
       " 'involved',\n",
       " 'involves',\n",
       " 'isbn',\n",
       " 'issue',\n",
       " 'issues',\n",
       " 'items',\n",
       " 'job',\n",
       " 'john',\n",
       " 'journal',\n",
       " 'kernel',\n",
       " 'key',\n",
       " 'kind',\n",
       " 'know',\n",
       " 'knowledge',\n",
       " 'lack',\n",
       " 'lambda',\n",
       " 'lambda_',\n",
       " 'language',\n",
       " 'languages',\n",
       " 'large',\n",
       " 'larger',\n",
       " 'late',\n",
       " 'later',\n",
       " 'law',\n",
       " 'laws',\n",
       " 'layer',\n",
       " 'ldots',\n",
       " 'lead',\n",
       " 'learn',\n",
       " 'learning',\n",
       " 'led',\n",
       " 'left',\n",
       " 'legal',\n",
       " 'length',\n",
       " 'leq',\n",
       " 'let',\n",
       " 'letter',\n",
       " 'level',\n",
       " 'levels',\n",
       " 'library',\n",
       " 'life',\n",
       " 'light',\n",
       " 'like',\n",
       " 'likelihood',\n",
       " 'likely',\n",
       " 'limit',\n",
       " 'limited',\n",
       " 'line',\n",
       " 'linear',\n",
       " 'lines',\n",
       " 'link',\n",
       " 'list',\n",
       " 'literature',\n",
       " 'little',\n",
       " 'local',\n",
       " 'location',\n",
       " 'log',\n",
       " 'logic',\n",
       " 'logical',\n",
       " 'long',\n",
       " 'longer',\n",
       " 'loss',\n",
       " 'low',\n",
       " 'lower',\n",
       " 'machine',\n",
       " 'machines',\n",
       " 'main',\n",
       " 'major',\n",
       " 'make',\n",
       " 'makes',\n",
       " 'making',\n",
       " 'management',\n",
       " 'map',\n",
       " 'mapping',\n",
       " 'maps',\n",
       " 'market',\n",
       " 'marketing',\n",
       " 'markov',\n",
       " 'mass',\n",
       " 'matching',\n",
       " 'material',\n",
       " 'mathbb',\n",
       " 'mathbf',\n",
       " 'mathcal',\n",
       " 'mathematical',\n",
       " 'mathematics',\n",
       " 'mathrm',\n",
       " 'matrices',\n",
       " 'matrix',\n",
       " 'matter',\n",
       " 'maximum',\n",
       " 'mean',\n",
       " 'meaning',\n",
       " 'means',\n",
       " 'measure',\n",
       " 'measured',\n",
       " 'measurement',\n",
       " 'measures',\n",
       " 'media',\n",
       " 'medical',\n",
       " 'members',\n",
       " 'memory',\n",
       " 'mental',\n",
       " 'message',\n",
       " 'method',\n",
       " 'methods',\n",
       " 'metric',\n",
       " 'mid',\n",
       " 'million',\n",
       " 'mind',\n",
       " 'minimum',\n",
       " 'mining',\n",
       " 'mobile',\n",
       " 'model',\n",
       " 'modeling',\n",
       " 'models',\n",
       " 'modern',\n",
       " 'molecular',\n",
       " 'motion',\n",
       " 'movement',\n",
       " 'mu',\n",
       " 'mu_',\n",
       " 'multi',\n",
       " 'multiple',\n",
       " 'music',\n",
       " 'n_',\n",
       " 'named',\n",
       " 'names',\n",
       " 'national',\n",
       " 'natural',\n",
       " 'nature',\n",
       " 'necessary',\n",
       " 'need',\n",
       " 'needed',\n",
       " 'needs',\n",
       " 'negative',\n",
       " 'network',\n",
       " 'networks',\n",
       " 'neural',\n",
       " 'neuron',\n",
       " 'neurons',\n",
       " 'node',\n",
       " 'nodes',\n",
       " 'noise',\n",
       " 'non',\n",
       " 'normal',\n",
       " 'notation',\n",
       " 'note',\n",
       " 'notes',\n",
       " 'numbers',\n",
       " 'numerical',\n",
       " 'object',\n",
       " 'objective',\n",
       " 'objects',\n",
       " 'observation',\n",
       " 'observations',\n",
       " 'observed',\n",
       " 'obtained',\n",
       " 'occur',\n",
       " 'occurs',\n",
       " 'old',\n",
       " 'omega',\n",
       " 'online',\n",
       " 'open',\n",
       " 'operating',\n",
       " 'operation',\n",
       " 'operations',\n",
       " 'operator',\n",
       " 'operatorname',\n",
       " 'optimal',\n",
       " 'optimization',\n",
       " 'order',\n",
       " 'organization',\n",
       " 'organizations',\n",
       " 'oriented',\n",
       " 'original',\n",
       " 'output',\n",
       " 'outside',\n",
       " 'overall',\n",
       " 'p_',\n",
       " 'page',\n",
       " 'paper',\n",
       " 'parallel',\n",
       " 'parameter',\n",
       " 'parameters',\n",
       " 'partial',\n",
       " 'particle',\n",
       " 'particular',\n",
       " 'particularly',\n",
       " 'parts',\n",
       " 'past',\n",
       " 'path',\n",
       " 'pattern',\n",
       " 'patterns',\n",
       " 'people',\n",
       " 'perform',\n",
       " 'performance',\n",
       " 'performed',\n",
       " 'period',\n",
       " 'person',\n",
       " 'personal',\n",
       " 'personality',\n",
       " 'phase',\n",
       " 'phi',\n",
       " 'philosophy',\n",
       " 'physical',\n",
       " 'physics',\n",
       " 'pi',\n",
       " 'place',\n",
       " 'planning',\n",
       " 'play',\n",
       " 'player',\n",
       " 'point',\n",
       " 'points',\n",
       " 'policy',\n",
       " 'political',\n",
       " 'polynomial',\n",
       " 'popular',\n",
       " 'population',\n",
       " 'position',\n",
       " 'positive',\n",
       " 'possible',\n",
       " 'post',\n",
       " 'potential',\n",
       " 'power',\n",
       " 'pp',\n",
       " 'practical',\n",
       " 'practice',\n",
       " 'pre',\n",
       " 'prediction',\n",
       " 'present',\n",
       " 'presented',\n",
       " 'press',\n",
       " 'previous',\n",
       " 'price',\n",
       " 'primary',\n",
       " 'principle',\n",
       " 'principles',\n",
       " 'prior',\n",
       " 'probabilities',\n",
       " 'probability',\n",
       " 'problem',\n",
       " 'problems',\n",
       " 'procedure',\n",
       " 'process',\n",
       " 'processes',\n",
       " 'processing',\n",
       " 'produce',\n",
       " 'produced',\n",
       " 'product',\n",
       " 'production',\n",
       " 'products',\n",
       " 'program',\n",
       " 'programming',\n",
       " 'programs',\n",
       " 'project',\n",
       " 'proof',\n",
       " 'properties',\n",
       " 'property',\n",
       " 'proposed',\n",
       " 'protein',\n",
       " 'provide',\n",
       " 'provided',\n",
       " 'provides',\n",
       " 'psychology',\n",
       " 'public',\n",
       " 'published',\n",
       " 'purpose',\n",
       " 'quality',\n",
       " 'quantum',\n",
       " 'question',\n",
       " 'questions',\n",
       " 'r_',\n",
       " 'random',\n",
       " 'range',\n",
       " 'rangle',\n",
       " 'rate',\n",
       " 'ratio',\n",
       " 'reading',\n",
       " 'real',\n",
       " 'reality',\n",
       " 'reason',\n",
       " 'reasoning',\n",
       " 'recent',\n",
       " 'recognition',\n",
       " 'reduce',\n",
       " 'reference',\n",
       " 'referred',\n",
       " 'refers',\n",
       " 'region',\n",
       " 'regression',\n",
       " 'related',\n",
       " 'relation',\n",
       " 'relationship',\n",
       " 'relationships',\n",
       " 'relative',\n",
       " 'released',\n",
       " 'relevant',\n",
       " 'reliability',\n",
       " 'report',\n",
       " 'represent',\n",
       " 'representation',\n",
       " 'represented',\n",
       " 'represents',\n",
       " 'require',\n",
       " 'required',\n",
       " 'requirements',\n",
       " 'requires',\n",
       " 'research',\n",
       " 'researchers',\n",
       " 'resolution',\n",
       " 'resources',\n",
       " 'respect',\n",
       " 'response',\n",
       " 'result',\n",
       " 'resulting',\n",
       " 'results',\n",
       " 'review',\n",
       " 'right',\n",
       " 'risk',\n",
       " 'robot',\n",
       " 'robots',\n",
       " 'role',\n",
       " 'root',\n",
       " 'rule',\n",
       " 'rules',\n",
       " 'run',\n",
       " 's_',\n",
       " 'said',\n",
       " 'sample',\n",
       " 'samples',\n",
       " 'sampling',\n",
       " 'say',\n",
       " 'scale',\n",
       " 'school',\n",
       " 'science',\n",
       " 'sciences',\n",
       " 'scientific',\n",
       " 'scientists',\n",
       " 'search',\n",
       " 'second',\n",
       " 'section',\n",
       " 'security',\n",
       " 'seen',\n",
       " 'selection',\n",
       " 'self',\n",
       " 'semantic',\n",
       " 'sense',\n",
       " 'separate',\n",
       " 'sequence',\n",
       " 'sequences',\n",
       " 'series',\n",
       " 'service',\n",
       " 'services',\n",
       " 'sets',\n",
       " 'shape',\n",
       " 'short',\n",
       " 'shown',\n",
       " 'shows',\n",
       " 'sigma',\n",
       " 'sigma_',\n",
       " 'signal',\n",
       " 'signals',\n",
       " 'significant',\n",
       " 'similar',\n",
       " 'similarity',\n",
       " 'similarly',\n",
       " 'simple',\n",
       " 'simply',\n",
       " 'simulation',\n",
       " 'single',\n",
       " 'site',\n",
       " 'situation',\n",
       " 'size',\n",
       " 'small',\n",
       " 'smaller',\n",
       " 'social',\n",
       " 'society',\n",
       " 'software',\n",
       " 'solution',\n",
       " 'solutions',\n",
       " 'solve',\n",
       " 'solving',\n",
       " 'sound',\n",
       " 'source',\n",
       " 'sources',\n",
       " 'space',\n",
       " 'spaces',\n",
       " 'spatial',\n",
       " 'special',\n",
       " 'species',\n",
       " 'specific',\n",
       " 'specifically',\n",
       " 'speech',\n",
       " 'speed',\n",
       " 'springer',\n",
       " 'sqrt',\n",
       " 'square',\n",
       " 'squares',\n",
       " 'stage',\n",
       " 'standard',\n",
       " 'standards',\n",
       " 'state',\n",
       " 'statement',\n",
       " 'states',\n",
       " 'statistical',\n",
       " 'statistics',\n",
       " 'step',\n",
       " 'steps',\n",
       " 'stochastic',\n",
       " 'strategy',\n",
       " 'string',\n",
       " 'strong',\n",
       " 'structural',\n",
       " 'structure',\n",
       " 'structures',\n",
       " 'students',\n",
       " 'studied',\n",
       " 'studies',\n",
       " 'study',\n",
       " 'subject',\n",
       " 'subset',\n",
       " 'suggested',\n",
       " 'sum',\n",
       " 'sum_',\n",
       " 'support',\n",
       " 'surface',\n",
       " 'symbols',\n",
       " 'systems',\n",
       " 't_',\n",
       " 'table',\n",
       " 'taken',\n",
       " 'takes',\n",
       " 'taking',\n",
       " 'target',\n",
       " 'task',\n",
       " 'tasks',\n",
       " 'team',\n",
       " 'technical',\n",
       " 'technique',\n",
       " 'techniques',\n",
       " 'technologies',\n",
       " 'technology',\n",
       " 'temperature',\n",
       " 'temporal',\n",
       " 'term',\n",
       " 'terms',\n",
       " 'test',\n",
       " 'testing',\n",
       " 'tests',\n",
       " 'text',\n",
       " 'theorem',\n",
       " 'theoretical',\n",
       " 'theories',\n",
       " 'theory',\n",
       " 'theta',\n",
       " 'things',\n",
       " 'thought',\n",
       " 'times',\n",
       " 'today',\n",
       " 'tool',\n",
       " 'tools',\n",
       " 'total',\n",
       " 'traditional',\n",
       " 'training',\n",
       " 'transform',\n",
       " 'transformation',\n",
       " 'transition',\n",
       " 'translation',\n",
       " 'treatment',\n",
       " 'tree',\n",
       " 'true',\n",
       " 'truth',\n",
       " 'turn',\n",
       " 'type',\n",
       " 'types',\n",
       " 'typical',\n",
       " 'typically',\n",
       " 'uncertainty',\n",
       " 'underlying',\n",
       " 'understand',\n",
       " 'understanding',\n",
       " 'unique',\n",
       " 'unit',\n",
       " 'united',\n",
       " 'units',\n",
       " 'universal',\n",
       " 'university',\n",
       " 'usage',\n",
       " 'useful',\n",
       " 'user',\n",
       " 'users',\n",
       " 'uses',\n",
       " 'usually',\n",
       " 'v_',\n",
       " 'value',\n",
       " 'values',\n",
       " 'variable',\n",
       " 'variables',\n",
       " 'variance',\n",
       " 'variety',\n",
       " 'various',\n",
       " 'vector',\n",
       " 'vectors',\n",
       " 'version',\n",
       " 'video',\n",
       " 'view',\n",
       " 'virtual',\n",
       " 'vision',\n",
       " 'visual',\n",
       " 'volume',\n",
       " 'w_',\n",
       " 'war',\n",
       " 'water',\n",
       " 'way',\n",
       " 'ways',\n",
       " 'web',\n",
       " 'weight',\n",
       " 'white',\n",
       " 'wide',\n",
       " 'widely',\n",
       " 'word',\n",
       " 'words',\n",
       " 'work',\n",
       " 'working',\n",
       " 'works',\n",
       " 'world',\n",
       " 'writing',\n",
       " 'written',\n",
       " 'x_',\n",
       " 'y_',\n",
       " 'year',\n",
       " 'years',\n",
       " 'york',\n",
       " 'zero']"
      ]
     },
     "execution_count": 79,
     "metadata": {},
     "output_type": "execute_result"
    }
   ],
   "source": [
    "terms"
   ]
  },
  {
   "cell_type": "code",
   "execution_count": 50,
   "metadata": {},
   "outputs": [],
   "source": [
    "def get_terms_in_article(article):\n",
    "    count = 0\n",
    "    about = []\n",
    "    for word in article:\n",
    "        if word in terms:\n",
    "            count+=1\n",
    "            about.append(word)\n",
    "    return about"
   ]
  },
  {
   "cell_type": "code",
   "execution_count": 81,
   "metadata": {},
   "outputs": [],
   "source": [
    "def count_terms_in_article(article):\n",
    "    count = 0\n",
    "    about = []\n",
    "    for word in article:\n",
    "        if word in terms:\n",
    "            count+=1\n",
    "            about.append(word)\n",
    "    return count"
   ]
  },
  {
   "cell_type": "code",
   "execution_count": 40,
   "metadata": {},
   "outputs": [
    {
     "data": {
      "text/plain": [
       "0.5140997830802603"
      ]
     },
     "execution_count": 40,
     "metadata": {},
     "output_type": "execute_result"
    }
   ],
   "source": [
    "get_terms_in_article(articles[0])/len(articles[0])"
   ]
  },
  {
   "cell_type": "code",
   "execution_count": 90,
   "metadata": {},
   "outputs": [
    {
     "data": {
      "text/plain": [
       "['following',\n",
       " 'provided',\n",
       " 'computer',\n",
       " 'vision',\n",
       " 'computer',\n",
       " 'vision',\n",
       " 'field',\n",
       " 'computers',\n",
       " 'understanding',\n",
       " 'digital',\n",
       " 'images',\n",
       " 'engineering',\n",
       " 'tasks',\n",
       " 'human',\n",
       " 'visual',\n",
       " 'computer',\n",
       " 'vision',\n",
       " 'tasks',\n",
       " 'include',\n",
       " 'methods',\n",
       " 'digital',\n",
       " 'images',\n",
       " 'image',\n",
       " 'image',\n",
       " 'processing',\n",
       " 'image',\n",
       " 'analysis',\n",
       " 'understanding',\n",
       " 'digital',\n",
       " 'images',\n",
       " 'general',\n",
       " 'real',\n",
       " 'world',\n",
       " 'order',\n",
       " 'produce',\n",
       " 'numerical',\n",
       " 'information',\n",
       " 'computer',\n",
       " 'image',\n",
       " 'forms',\n",
       " 'video',\n",
       " 'sequences',\n",
       " 'multiple',\n",
       " 'medical',\n",
       " 'computer',\n",
       " 'vision',\n",
       " 'apply',\n",
       " 'theories',\n",
       " 'models',\n",
       " 'construction',\n",
       " 'computer',\n",
       " 'vision',\n",
       " 'systems',\n",
       " 'scientific',\n",
       " 'computer',\n",
       " 'vision',\n",
       " 'theory',\n",
       " 'artificial',\n",
       " 'systems',\n",
       " 'information',\n",
       " 'images',\n",
       " 'computer',\n",
       " 'computer',\n",
       " 'computer',\n",
       " 'history',\n",
       " 'computer',\n",
       " 'history',\n",
       " 'computer',\n",
       " 'computer',\n",
       " 'vision',\n",
       " 'image',\n",
       " 'image',\n",
       " 'image',\n",
       " 'gamma',\n",
       " 'fourier',\n",
       " 'image',\n",
       " 'image',\n",
       " 'filter',\n",
       " 'color',\n",
       " 'visual',\n",
       " 'human',\n",
       " 'visual',\n",
       " 'color',\n",
       " 'matching',\n",
       " 'color',\n",
       " 'color',\n",
       " 'color',\n",
       " 'management',\n",
       " 'color',\n",
       " 'color',\n",
       " 'color',\n",
       " 'feature',\n",
       " 'active',\n",
       " 'edge',\n",
       " 'edge',\n",
       " 'edge',\n",
       " 'random',\n",
       " 'sample',\n",
       " 'feature',\n",
       " 'transform',\n",
       " 'body',\n",
       " 'estimation',\n",
       " 'direct',\n",
       " 'linear',\n",
       " 'transformation',\n",
       " 'fundamental',\n",
       " 'active',\n",
       " 'model',\n",
       " 'graph',\n",
       " 'squares',\n",
       " 'image',\n",
       " 'image',\n",
       " 'markov',\n",
       " 'random',\n",
       " 'motion',\n",
       " 'motion',\n",
       " 'particle',\n",
       " 'scale',\n",
       " 'visual',\n",
       " 'object',\n",
       " 'feature',\n",
       " 'transform',\n",
       " 'model',\n",
       " 'computer',\n",
       " 'commercial',\n",
       " 'computer',\n",
       " 'vision',\n",
       " 'detection',\n",
       " '3d',\n",
       " 'multiple',\n",
       " 'speech',\n",
       " 'automated',\n",
       " 'automatic',\n",
       " 'image',\n",
       " 'automatic',\n",
       " 'automatic',\n",
       " 'target',\n",
       " 'computer',\n",
       " 'image',\n",
       " 'digital',\n",
       " 'video',\n",
       " 'document',\n",
       " 'recognition',\n",
       " 'feature',\n",
       " 'image',\n",
       " 'collection',\n",
       " 'image',\n",
       " 'image',\n",
       " 'image',\n",
       " 'modeling',\n",
       " 'machine',\n",
       " 'mobile',\n",
       " 'components',\n",
       " 'mobile',\n",
       " 'object',\n",
       " 'character',\n",
       " 'intelligent',\n",
       " 'character',\n",
       " 'people',\n",
       " 'physical',\n",
       " 'light',\n",
       " 'video',\n",
       " 'content',\n",
       " 'view',\n",
       " 'visual',\n",
       " 'visual',\n",
       " 'water',\n",
       " 'computer',\n",
       " 'vision',\n",
       " 'view',\n",
       " 'computer',\n",
       " 'vision',\n",
       " 'electronic',\n",
       " 'computer',\n",
       " 'vision',\n",
       " 'image',\n",
       " 'international',\n",
       " 'journal',\n",
       " 'computer',\n",
       " 'computer',\n",
       " 'vision',\n",
       " 'conference',\n",
       " 'computer',\n",
       " 'vision',\n",
       " 'pattern',\n",
       " 'european',\n",
       " 'conference',\n",
       " 'computer',\n",
       " 'international',\n",
       " 'conference',\n",
       " 'computer',\n",
       " 'international',\n",
       " 'central',\n",
       " 'computer',\n",
       " 'graphics',\n",
       " 'computer',\n",
       " 'computer',\n",
       " 'artificial',\n",
       " 'list',\n",
       " 'computer',\n",
       " 'graphics',\n",
       " 'geometry',\n",
       " 'virtual',\n",
       " 'design',\n",
       " 'computer',\n",
       " 'vision',\n",
       " 'conference',\n",
       " 'computer',\n",
       " 'vision',\n",
       " 'web',\n",
       " 'complete',\n",
       " 'list',\n",
       " 'relevant',\n",
       " 'computer',\n",
       " 'vision',\n",
       " 'computer',\n",
       " 'vision',\n",
       " 'online',\n",
       " 'source',\n",
       " 'code',\n",
       " 'job',\n",
       " 'related',\n",
       " 'computer',\n",
       " 'vision',\n",
       " 'price',\n",
       " 'computer',\n",
       " 'vision',\n",
       " 'computer',\n",
       " 'vision',\n",
       " 'machine',\n",
       " 'vision',\n",
       " 'association',\n",
       " 'computer',\n",
       " 'vision',\n",
       " 'research',\n",
       " 'journal',\n",
       " 'school']"
      ]
     },
     "execution_count": 90,
     "metadata": {},
     "output_type": "execute_result"
    }
   ],
   "source": [
    "get_terms_in_article(articles[0])"
   ]
  },
  {
   "cell_type": "code",
   "execution_count": 45,
   "metadata": {},
   "outputs": [],
   "source": [
    "from gensim.test.utils import common_texts\n",
    "from gensim.corpora.dictionary import Dictionary"
   ]
  },
  {
   "cell_type": "code",
   "execution_count": 46,
   "metadata": {},
   "outputs": [],
   "source": [
    "from gensim.test.utils import common_texts"
   ]
  },
  {
   "cell_type": "code",
   "execution_count": 51,
   "metadata": {},
   "outputs": [],
   "source": [
    "a_terms = count_terms_in_article(articles[0])"
   ]
  },
  {
   "cell_type": "code",
   "execution_count": 52,
   "metadata": {},
   "outputs": [],
   "source": [
    "c = Counter(a_terms)"
   ]
  },
  {
   "cell_type": "code",
   "execution_count": 55,
   "metadata": {},
   "outputs": [],
   "source": [
    "sorted_terms = sorted(c.items(), key=lambda item: (-item[1], item[0]))"
   ]
  },
  {
   "cell_type": "code",
   "execution_count": 57,
   "metadata": {},
   "outputs": [
    {
     "data": {
      "text/plain": [
       "461"
      ]
     },
     "execution_count": 57,
     "metadata": {},
     "output_type": "execute_result"
    }
   ],
   "source": [
    "len(articles[0])"
   ]
  },
  {
   "cell_type": "code",
   "execution_count": 64,
   "metadata": {},
   "outputs": [
    {
     "data": {
      "text/plain": [
       "[('computer', 36),\n",
       " ('vision', 22),\n",
       " ('image', 18),\n",
       " ('color', 8),\n",
       " ('visual', 6),\n",
       " ('digital', 4),\n",
       " ('images', 4),\n",
       " ('feature', 4),\n",
       " ('conference', 4),\n",
       " ('video', 3)]"
      ]
     },
     "execution_count": 64,
     "metadata": {},
     "output_type": "execute_result"
    }
   ],
   "source": [
    "c.most_common(10)"
   ]
  },
  {
   "cell_type": "markdown",
   "metadata": {},
   "source": [
    "from here, I'll see how many of the terms in the most common 10  are in the article titles"
   ]
  },
  {
   "cell_type": "code",
   "execution_count": 70,
   "metadata": {},
   "outputs": [],
   "source": [
    "test_terms = [t[0] for t in list(c.most_common(10))]"
   ]
  },
  {
   "cell_type": "code",
   "execution_count": 72,
   "metadata": {
    "scrolled": true
   },
   "outputs": [
    {
     "data": {
      "text/plain": [
       "['computer',\n",
       " 'vision',\n",
       " 'image',\n",
       " 'color',\n",
       " 'visual',\n",
       " 'digital',\n",
       " 'images',\n",
       " 'feature',\n",
       " 'conference',\n",
       " 'video']"
      ]
     },
     "execution_count": 72,
     "metadata": {},
     "output_type": "execute_result"
    }
   ],
   "source": [
    "test_terms"
   ]
  },
  {
   "cell_type": "code",
   "execution_count": 80,
   "metadata": {},
   "outputs": [
    {
     "data": {
      "text/plain": [
       "['outline', 'computer', 'vision']"
      ]
     },
     "execution_count": 80,
     "metadata": {},
     "output_type": "execute_result"
    }
   ],
   "source": [
    "df.topics[0]"
   ]
  },
  {
   "cell_type": "code",
   "execution_count": 93,
   "metadata": {},
   "outputs": [],
   "source": [
    "def get_score(row):\n",
    "    article = row['article']\n",
    "    terms = get_terms_in_article(article)\n",
    "    c = Counter(a_terms)\n",
    "    test_terms = c.most_common(10)\n",
    "    \n",
    "    return len(c)\n",
    "    \n",
    "    "
   ]
  },
  {
   "cell_type": "code",
   "execution_count": 87,
   "metadata": {},
   "outputs": [
    {
     "data": {
      "text/plain": [
       "0    111\n",
       "1    111\n",
       "2    111\n",
       "3    111\n",
       "4    111\n",
       "dtype: int64"
      ]
     },
     "execution_count": 87,
     "metadata": {},
     "output_type": "execute_result"
    }
   ],
   "source": []
  },
  {
   "cell_type": "code",
   "execution_count": null,
   "metadata": {},
   "outputs": [],
   "source": [
    " "
   ]
  },
  {
   "cell_type": "code",
   "execution_count": null,
   "metadata": {},
   "outputs": [],
   "source": []
  }
 ],
 "metadata": {
  "kernelspec": {
   "display_name": "Python 3",
   "language": "python",
   "name": "python3"
  },
  "language_info": {
   "codemirror_mode": {
    "name": "ipython",
    "version": 3
   },
   "file_extension": ".py",
   "mimetype": "text/x-python",
   "name": "python",
   "nbconvert_exporter": "python",
   "pygments_lexer": "ipython3",
   "version": "3.7.4"
  }
 },
 "nbformat": 4,
 "nbformat_minor": 2
}
