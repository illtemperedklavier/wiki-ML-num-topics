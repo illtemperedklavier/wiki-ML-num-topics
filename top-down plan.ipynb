{
 "cells": [
  {
   "cell_type": "markdown",
   "metadata": {},
   "source": [
    "The goal is to get the key concepts from an article - this is using an approximation of the LSA algorithm"
   ]
  },
  {
   "cell_type": "markdown",
   "metadata": {},
   "source": [
    "next, the goal is to take the labels, gotten from title names for the articles, and use them to evaluate the hyperparameters of the model"
   ]
  },
  {
   "cell_type": "markdown",
   "metadata": {},
   "source": [
    "Get raw word counts"
   ]
  },
  {
   "cell_type": "markdown",
   "metadata": {},
   "source": [
    "find out how often title words appear in the articles - could I just use article title words with stopwords removed as topics?"
   ]
  },
  {
   "cell_type": "markdown",
   "metadata": {},
   "source": [
    "for unsupervised topic modelling, try LDA\n",
    "given more time, I'd do more research on things like this: \"Unsupervised Topic Modeling for Short Texts Using Distributed\n",
    "Representations of Words\" https://www.aclweb.org/anthology/W15-1526.pdf , that claim to beat LDA"
   ]
  },
  {
   "cell_type": "markdown",
   "metadata": {},
   "source": [
    "need some basic stats on the text: \n",
    "    - how many words are in the original article"
   ]
  },
  {
   "cell_type": "markdown",
   "metadata": {},
   "source": [
    "simple idea for a different dataset: how possible is it to identify topics by what students have questions about?\n",
    "\n",
    "With this, there's a good idea about the topics in the title"
   ]
  },
  {
   "cell_type": "markdown",
   "metadata": {},
   "source": [
    "how many topics? try using the number of titles"
   ]
  },
  {
   "cell_type": "markdown",
   "metadata": {},
   "source": [
    "tasks:\n",
    "    - change to remove punctuation before tokenization\n",
    "    - bonus - sent_tokenize the Wiki articles for data augmentation\n",
    "    - \"ground truth\" doesn't exist here, but the article titles and first couple of lines of the articles probably contain key terms\n",
    "    "
   ]
  },
  {
   "cell_type": "code",
   "execution_count": null,
   "metadata": {},
   "outputs": [],
   "source": []
  }
 ],
 "metadata": {
  "kernelspec": {
   "display_name": "Python 3",
   "language": "python",
   "name": "python3"
  },
  "language_info": {
   "codemirror_mode": {
    "name": "ipython",
    "version": 3
   },
   "file_extension": ".py",
   "mimetype": "text/x-python",
   "name": "python",
   "nbconvert_exporter": "python",
   "pygments_lexer": "ipython3",
   "version": "3.7.4"
  }
 },
 "nbformat": 4,
 "nbformat_minor": 2
}
