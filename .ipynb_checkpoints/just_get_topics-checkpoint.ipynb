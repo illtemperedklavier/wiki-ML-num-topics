{
 "cells": [
  {
   "cell_type": "code",
   "execution_count": 101,
   "metadata": {},
   "outputs": [],
   "source": [
    "import nltk\n",
    "import pandas as pd"
   ]
  },
  {
   "cell_type": "code",
   "execution_count": 102,
   "metadata": {},
   "outputs": [],
   "source": [
    "from collections import Counter"
   ]
  },
  {
   "cell_type": "code",
   "execution_count": 103,
   "metadata": {},
   "outputs": [],
   "source": [
    "from nltk.corpus import stopwords\n",
    "from sklearn.metrics import f1_score"
   ]
  },
  {
   "cell_type": "code",
   "execution_count": 104,
   "metadata": {},
   "outputs": [],
   "source": [
    "data = pd.read_csv(r\"D:\\Data\\wikipedia-ml\\wikipedia_machine_learning.csv\",sep='\\t')"
   ]
  },
  {
   "cell_type": "markdown",
   "metadata": {},
   "source": [
    "The format of the data is that each row is a series, and each series has 3 elements: 0:title, 1: url, 2: body text "
   ]
  },
  {
   "cell_type": "code",
   "execution_count": 105,
   "metadata": {},
   "outputs": [],
   "source": [
    "articles = data.apply(lambda x: x[2], axis=1)"
   ]
  },
  {
   "cell_type": "code",
   "execution_count": 106,
   "metadata": {},
   "outputs": [],
   "source": [
    "titles = data.apply(lambda x: x[0], axis=1)"
   ]
  },
  {
   "cell_type": "code",
   "execution_count": 107,
   "metadata": {},
   "outputs": [],
   "source": [
    "urls = data.apply(lambda x: x[1], axis=1)"
   ]
  },
  {
   "cell_type": "code",
   "execution_count": 108,
   "metadata": {},
   "outputs": [],
   "source": [
    "df = pd.concat([titles,urls,articles],axis=1)"
   ]
  },
  {
   "cell_type": "code",
   "execution_count": 109,
   "metadata": {},
   "outputs": [],
   "source": [
    "df.columns = ['title', 'url','original_article']"
   ]
  },
  {
   "cell_type": "code",
   "execution_count": 110,
   "metadata": {},
   "outputs": [
    {
     "data": {
      "text/html": [
       "<div>\n",
       "<style scoped>\n",
       "    .dataframe tbody tr th:only-of-type {\n",
       "        vertical-align: middle;\n",
       "    }\n",
       "\n",
       "    .dataframe tbody tr th {\n",
       "        vertical-align: top;\n",
       "    }\n",
       "\n",
       "    .dataframe thead th {\n",
       "        text-align: right;\n",
       "    }\n",
       "</style>\n",
       "<table border=\"1\" class=\"dataframe\">\n",
       "  <thead>\n",
       "    <tr style=\"text-align: right;\">\n",
       "      <th></th>\n",
       "      <th>title</th>\n",
       "      <th>url</th>\n",
       "      <th>original_article</th>\n",
       "    </tr>\n",
       "  </thead>\n",
       "  <tbody>\n",
       "    <tr>\n",
       "      <td>0</td>\n",
       "      <td>Outline of computer vision</td>\n",
       "      <td>https://en.wikipedia.org/wiki/Outline_of_compu...</td>\n",
       "      <td>The following outline is provided as an overvi...</td>\n",
       "    </tr>\n",
       "    <tr>\n",
       "      <td>1</td>\n",
       "      <td>Outline of natural language processing</td>\n",
       "      <td>https://en.wikipedia.org/wiki/Outline_of_natur...</td>\n",
       "      <td>The following outline is provided as an overvi...</td>\n",
       "    </tr>\n",
       "    <tr>\n",
       "      <td>2</td>\n",
       "      <td>Outline of robotics</td>\n",
       "      <td>https://en.wikipedia.org/wiki/Outline_of_robotics</td>\n",
       "      <td>The following outline is provided as an overvi...</td>\n",
       "    </tr>\n",
       "    <tr>\n",
       "      <td>3</td>\n",
       "      <td>Accuracy paradox</td>\n",
       "      <td>https://en.wikipedia.org/wiki/Accuracy_paradox</td>\n",
       "      <td>The accuracy paradox is the paradoxical findin...</td>\n",
       "    </tr>\n",
       "    <tr>\n",
       "      <td>4</td>\n",
       "      <td>Action model learning</td>\n",
       "      <td>https://en.wikipedia.org/wiki/Action_model_lea...</td>\n",
       "      <td>Action model learning(sometimes abbreviated ac...</td>\n",
       "    </tr>\n",
       "  </tbody>\n",
       "</table>\n",
       "</div>"
      ],
      "text/plain": [
       "                                    title  \\\n",
       "0              Outline of computer vision   \n",
       "1  Outline of natural language processing   \n",
       "2                     Outline of robotics   \n",
       "3                        Accuracy paradox   \n",
       "4                   Action model learning   \n",
       "\n",
       "                                                 url  \\\n",
       "0  https://en.wikipedia.org/wiki/Outline_of_compu...   \n",
       "1  https://en.wikipedia.org/wiki/Outline_of_natur...   \n",
       "2  https://en.wikipedia.org/wiki/Outline_of_robotics   \n",
       "3     https://en.wikipedia.org/wiki/Accuracy_paradox   \n",
       "4  https://en.wikipedia.org/wiki/Action_model_lea...   \n",
       "\n",
       "                                    original_article  \n",
       "0  The following outline is provided as an overvi...  \n",
       "1  The following outline is provided as an overvi...  \n",
       "2  The following outline is provided as an overvi...  \n",
       "3  The accuracy paradox is the paradoxical findin...  \n",
       "4  Action model learning(sometimes abbreviated ac...  "
      ]
     },
     "execution_count": 110,
     "metadata": {},
     "output_type": "execute_result"
    }
   ],
   "source": [
    "df.head()"
   ]
  },
  {
   "cell_type": "markdown",
   "metadata": {},
   "source": [
    "The next stage is to apply typical NLP preprocessing steps before looking at what words tend to be used often:\n",
    "- lowercase\n",
    "- remove stopwords"
   ]
  },
  {
   "cell_type": "code",
   "execution_count": 111,
   "metadata": {},
   "outputs": [
    {
     "data": {
      "text/plain": [
       "[float, str]"
      ]
     },
     "execution_count": 111,
     "metadata": {},
     "output_type": "execute_result"
    }
   ],
   "source": [
    "list(set([type(a) for a in df.original_article]))"
   ]
  },
  {
   "cell_type": "code",
   "execution_count": 112,
   "metadata": {},
   "outputs": [],
   "source": [
    "float_cols = df[df['original_article'].apply(lambda x: isinstance(x, float))]"
   ]
  },
  {
   "cell_type": "code",
   "execution_count": 113,
   "metadata": {},
   "outputs": [
    {
     "data": {
      "text/html": [
       "<div>\n",
       "<style scoped>\n",
       "    .dataframe tbody tr th:only-of-type {\n",
       "        vertical-align: middle;\n",
       "    }\n",
       "\n",
       "    .dataframe tbody tr th {\n",
       "        vertical-align: top;\n",
       "    }\n",
       "\n",
       "    .dataframe thead th {\n",
       "        text-align: right;\n",
       "    }\n",
       "</style>\n",
       "<table border=\"1\" class=\"dataframe\">\n",
       "  <thead>\n",
       "    <tr style=\"text-align: right;\">\n",
       "      <th></th>\n",
       "      <th>title</th>\n",
       "      <th>url</th>\n",
       "      <th>original_article</th>\n",
       "    </tr>\n",
       "  </thead>\n",
       "  <tbody>\n",
       "    <tr>\n",
       "      <td>100</td>\n",
       "      <td>Category:Robotics suites</td>\n",
       "      <td>https://en.wikipedia.org/wiki/Category:Robotic...</td>\n",
       "      <td>NaN</td>\n",
       "    </tr>\n",
       "    <tr>\n",
       "      <td>5449</td>\n",
       "      <td>Category:Search algorithms</td>\n",
       "      <td>https://en.wikipedia.org/wiki/Category:Search_...</td>\n",
       "      <td>NaN</td>\n",
       "    </tr>\n",
       "  </tbody>\n",
       "</table>\n",
       "</div>"
      ],
      "text/plain": [
       "                           title  \\\n",
       "100     Category:Robotics suites   \n",
       "5449  Category:Search algorithms   \n",
       "\n",
       "                                                    url original_article  \n",
       "100   https://en.wikipedia.org/wiki/Category:Robotic...              NaN  \n",
       "5449  https://en.wikipedia.org/wiki/Category:Search_...              NaN  "
      ]
     },
     "execution_count": 113,
     "metadata": {},
     "output_type": "execute_result"
    }
   ],
   "source": [
    "float_cols.head()"
   ]
  },
  {
   "cell_type": "code",
   "execution_count": 114,
   "metadata": {},
   "outputs": [
    {
     "data": {
      "text/plain": [
       "2"
      ]
     },
     "execution_count": 114,
     "metadata": {},
     "output_type": "execute_result"
    }
   ],
   "source": [
    "df['original_article'].isna().sum()"
   ]
  },
  {
   "cell_type": "markdown",
   "metadata": {},
   "source": [
    "There's not many nulls, I'm just going to drop them, I'd check the proportion of nulls, but since the number of instances is in the thousands, and this is 2, I'm just going to drop them"
   ]
  },
  {
   "cell_type": "code",
   "execution_count": 115,
   "metadata": {
    "scrolled": true
   },
   "outputs": [
    {
     "data": {
      "text/plain": [
       "(7316, 3)"
      ]
     },
     "execution_count": 115,
     "metadata": {},
     "output_type": "execute_result"
    }
   ],
   "source": [
    "df = df.dropna(how='any')\n",
    "df.shape"
   ]
  },
  {
   "cell_type": "code",
   "execution_count": 116,
   "metadata": {},
   "outputs": [],
   "source": [
    "punctuation = \"()'',.:-=\""
   ]
  },
  {
   "cell_type": "code",
   "execution_count": 117,
   "metadata": {},
   "outputs": [],
   "source": [
    "pun_trans = str.maketrans(\"\", \"\", punctuation)"
   ]
  },
  {
   "cell_type": "code",
   "execution_count": 118,
   "metadata": {
    "scrolled": true
   },
   "outputs": [],
   "source": [
    "df['articles'] = df['original_article'].apply(lambda s: s.lower())"
   ]
  },
  {
   "cell_type": "code",
   "execution_count": 119,
   "metadata": {},
   "outputs": [
    {
     "data": {
      "text/plain": [
       "0       the following outline is provided as an overvi...\n",
       "1       the following outline is provided as an overvi...\n",
       "2       the following outline is provided as an overvi...\n",
       "3       the accuracy paradox is the paradoxical findin...\n",
       "4       action model learning(sometimes abbreviated ac...\n",
       "                              ...                        \n",
       "7313    apollonian sphere packing is the three-dimensi...\n",
       "7314    in mathematics, the hermite constant, named af...\n",
       "7315    in geometry, a kissing number is defined as th...\n",
       "7316    in geometry, a sphere packing is an arrangemen...\n",
       "7317    random close packing(rcp) is an empirical para...\n",
       "Name: articles, Length: 7316, dtype: object"
      ]
     },
     "execution_count": 119,
     "metadata": {},
     "output_type": "execute_result"
    }
   ],
   "source": [
    "df.articles"
   ]
  },
  {
   "cell_type": "code",
   "execution_count": 120,
   "metadata": {},
   "outputs": [],
   "source": [
    "df['articles'] = df.articles.copy().apply(lambda x: x.translate(pun_trans))"
   ]
  },
  {
   "cell_type": "markdown",
   "metadata": {},
   "source": [
    "I need to create a dataframe with a column for each word, where the row is the count of that word in that article"
   ]
  },
  {
   "cell_type": "code",
   "execution_count": 121,
   "metadata": {
    "scrolled": true
   },
   "outputs": [],
   "source": [
    "df['articles'] = df.articles.copy().apply(lambda row: nltk.word_tokenize(row))"
   ]
  },
  {
   "cell_type": "code",
   "execution_count": 122,
   "metadata": {
    "scrolled": true
   },
   "outputs": [
    {
     "data": {
      "text/plain": [
       "0    [the, following, outline, is, provided, as, an...\n",
       "1    [the, following, outline, is, provided, as, an...\n",
       "2    [the, following, outline, is, provided, as, an...\n",
       "3    [the, accuracy, paradox, is, the, paradoxical,...\n",
       "4    [action, model, learningsometimes, abbreviated...\n",
       "Name: articles, dtype: object"
      ]
     },
     "execution_count": 122,
     "metadata": {},
     "output_type": "execute_result"
    }
   ],
   "source": [
    "df.articles.head()"
   ]
  },
  {
   "cell_type": "code",
   "execution_count": 123,
   "metadata": {},
   "outputs": [],
   "source": [
    "stop_words = set(stopwords.words('english')) "
   ]
  },
  {
   "cell_type": "markdown",
   "metadata": {},
   "source": [
    "I was conservative with removing the punctuation, because some of it might be important, like ? especially, and =="
   ]
  },
  {
   "cell_type": "markdown",
   "metadata": {},
   "source": [
    "I need to remove punctuation as well as stopwords"
   ]
  },
  {
   "cell_type": "code",
   "execution_count": 124,
   "metadata": {},
   "outputs": [],
   "source": [
    "df.articles = df.articles.copy().apply(lambda x: [w for w in x if w not in stop_words])"
   ]
  },
  {
   "cell_type": "code",
   "execution_count": 125,
   "metadata": {},
   "outputs": [
    {
     "data": {
      "text/plain": [
       "0       [following, outline, provided, overview, topic...\n",
       "1       [following, outline, provided, overview, topic...\n",
       "2       [following, outline, provided, overview, topic...\n",
       "3       [accuracy, paradox, paradoxical, finding, accu...\n",
       "4       [action, model, learningsometimes, abbreviated...\n",
       "                              ...                        \n",
       "7313    [apollonian, sphere, packing, threedimensional...\n",
       "7314    [mathematics, hermite, constant, named, charle...\n",
       "7315    [geometry, kissing, number, defined, number, n...\n",
       "7316    [geometry, sphere, packing, arrangement, nonov...\n",
       "7317    [random, close, packingrcp, empirical, paramet...\n",
       "Name: articles, Length: 7316, dtype: object"
      ]
     },
     "execution_count": 125,
     "metadata": {},
     "output_type": "execute_result"
    }
   ],
   "source": [
    "df.articles"
   ]
  },
  {
   "cell_type": "code",
   "execution_count": 126,
   "metadata": {},
   "outputs": [],
   "source": [
    "c = Counter(df.articles[0])"
   ]
  },
  {
   "cell_type": "code",
   "execution_count": 127,
   "metadata": {},
   "outputs": [
    {
     "data": {
      "text/plain": [
       "[('computer', 36),\n",
       " ('vision', 26),\n",
       " ('image', 18),\n",
       " ('color', 8),\n",
       " ('visual', 6),\n",
       " ('digital', 4),\n",
       " ('feature', 4),\n",
       " ('optical', 4),\n",
       " ('conference', 4),\n",
       " ('outline', 3)]"
      ]
     },
     "execution_count": 127,
     "metadata": {},
     "output_type": "execute_result"
    }
   ],
   "source": [
    "c.most_common(10)"
   ]
  },
  {
   "cell_type": "markdown",
   "metadata": {},
   "source": [
    "Something like this https://www.aclweb.org/anthology/W15-1526.pdf would be good to try - supposedly outperforms LDA, but"
   ]
  },
  {
   "cell_type": "code",
   "execution_count": 128,
   "metadata": {
    "scrolled": false
   },
   "outputs": [],
   "source": [
    "def get_most_common(word_list):\n",
    "    n = 10\n",
    "    c = Counter(word_list)\n",
    "    most_common = c.most_common(n)\n",
    "    return [x[0] for x in most_common]"
   ]
  },
  {
   "cell_type": "code",
   "execution_count": 129,
   "metadata": {},
   "outputs": [],
   "source": [
    "df['text_topics'] = df.articles.copy().apply(get_most_common)"
   ]
  },
  {
   "cell_type": "code",
   "execution_count": 130,
   "metadata": {},
   "outputs": [
    {
     "data": {
      "text/plain": [
       "0       [following, outline, provided, overview, topic...\n",
       "1       [following, outline, provided, overview, topic...\n",
       "2       [following, outline, provided, overview, topic...\n",
       "3       [accuracy, paradox, paradoxical, finding, accu...\n",
       "4       [action, model, learningsometimes, abbreviated...\n",
       "                              ...                        \n",
       "7313    [apollonian, sphere, packing, threedimensional...\n",
       "7314    [mathematics, hermite, constant, named, charle...\n",
       "7315    [geometry, kissing, number, defined, number, n...\n",
       "7316    [geometry, sphere, packing, arrangement, nonov...\n",
       "7317    [random, close, packingrcp, empirical, paramet...\n",
       "Name: articles, Length: 7316, dtype: object"
      ]
     },
     "execution_count": 130,
     "metadata": {},
     "output_type": "execute_result"
    }
   ],
   "source": [
    "df.articles"
   ]
  },
  {
   "cell_type": "markdown",
   "metadata": {},
   "source": [
    "# Get some topics per article"
   ]
  },
  {
   "cell_type": "code",
   "execution_count": 131,
   "metadata": {
    "scrolled": true
   },
   "outputs": [],
   "source": [
    "df['text_topics2'] = df.title.copy().apply(lambda x: ''.join([c for c in x if c not in punctuation]))"
   ]
  },
  {
   "cell_type": "code",
   "execution_count": 132,
   "metadata": {},
   "outputs": [],
   "source": [
    "df['text_topics2'] = df.text_topics2.copy().apply(lambda x: x.lower())"
   ]
  },
  {
   "cell_type": "code",
   "execution_count": 133,
   "metadata": {},
   "outputs": [],
   "source": [
    "df.text_topics2 = df.text_topics2.copy().apply(lambda x: nltk.word_tokenize(x))"
   ]
  },
  {
   "cell_type": "code",
   "execution_count": 134,
   "metadata": {},
   "outputs": [],
   "source": [
    "df.text_topics2 = df.text_topics2.copy().apply(lambda x: [w for w in x if w not in stop_words])"
   ]
  },
  {
   "cell_type": "code",
   "execution_count": 135,
   "metadata": {},
   "outputs": [
    {
     "data": {
      "text/plain": [
       "Index(['title', 'url', 'original_article', 'articles', 'text_topics',\n",
       "       'text_topics2'],\n",
       "      dtype='object')"
      ]
     },
     "execution_count": 135,
     "metadata": {},
     "output_type": "execute_result"
    }
   ],
   "source": [
    "df.columns"
   ]
  },
  {
   "cell_type": "markdown",
   "metadata": {},
   "source": [
    "## There are two Ozymandias solutions to getting topics - \n",
    "\n",
    "just get non-stopword words from the title 'text_topics2', or get non-stopword words from the article body 'text_topics'"
   ]
  },
  {
   "cell_type": "code",
   "execution_count": null,
   "metadata": {},
   "outputs": [],
   "source": []
  }
 ],
 "metadata": {
  "kernelspec": {
   "display_name": "Python 3",
   "language": "python",
   "name": "python3"
  },
  "language_info": {
   "codemirror_mode": {
    "name": "ipython",
    "version": 3
   },
   "file_extension": ".py",
   "mimetype": "text/x-python",
   "name": "python",
   "nbconvert_exporter": "python",
   "pygments_lexer": "ipython3",
   "version": "3.7.4"
  }
 },
 "nbformat": 4,
 "nbformat_minor": 2
}
